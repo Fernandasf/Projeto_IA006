{
 "cells": [
  {
   "cell_type": "markdown",
   "metadata": {},
   "source": [
    "  # Exercícios de Fixação de Conceitos 1\n",
    "\n",
    "    Disciplina: IA006 - Machine Learning - 1S/2019\n",
    "    Professores: Levy Boccato & Romis Attux\n",
    "    Aluna: Fernanda de Souza Ferreira RA:163676"
   ]
  },
  {
   "cell_type": "markdown",
   "metadata": {},
   "source": [
    "## Exercício 1"
   ]
  },
  {
   "cell_type": "markdown",
   "metadata": {},
   "source": [
    "$ P(A) = \\frac{1}{3}$,  $P(B) = \\frac{1}{4}$ e $P(AB)=\\frac{1}{6}$\n",
    "\n",
    "Primeiro vamos identificar se os eventos são  disjuntos e independentes.\n",
    "\n",
    "Para que os eventos sejam disjuntos $P(A \\cap B)=0$, porém $P(A \\cap B)=\\frac{1}{6}$.\n",
    "\n",
    "Portanto os eventos não são disjuntos.\n",
    "\n",
    "Para que os eventos sejam independentes: $P(A\\mid B)=P(A)$\n",
    "\n",
    "$P(A\\mid B)= \\frac{P(A\\cap B)}{P(B)} = \\frac{\\frac{1}{6}}{\\frac{1}{4}} = \\frac{2}{3}$\n",
    "\n",
    "Assim, $P(A\\mid B)\\neq P(A)$, portanto os eventos são dependentes."
   ]
  },
  {
   "cell_type": "markdown",
   "metadata": {},
   "source": [
    "### a) $P(A^{c}) = 1 - \\frac{1}{3} = \\frac{2}{3}$"
   ]
  },
  {
   "cell_type": "markdown",
   "metadata": {},
   "source": [
    "### b) $P(A^{c} U B) = P(A^{c}) + P(B^{c}) - P(A^{c}\\cup B))$\n",
    "\n",
    "$P(A^{c}\\cup B) = P(A^{c}\\mid B)\\cdot P(B) = (1-P(A\\mid B))\\cdot P(B)= \\left ( 1-\\frac{2}{3}\\right )\\cdot \\frac{1}{4}=\\frac{1}{12}$\n",
    "\n",
    "$P(A^{c} U B)=P(A^{c}) + P(B^{c}) - P(A^{c}\\cup B) = \\frac{2}{3}+\\frac{1}{4}-\\frac{1}{12} = \\frac{5}{6}$\n"
   ]
  },
  {
   "cell_type": "markdown",
   "metadata": {},
   "source": [
    "### c) $P(A U B^{c}) = P(A) + P(B^{c}) - P(A\\cap B^{c})$\n",
    "\n",
    "$P(A\\cap B^{c}) = P(B^{c}\\mid A)\\cdot P(A) = (1-P(B\\mid A))\\cdot P(A)= \\left ( 1-\\frac{1}{2}\\right )\\cdot \\frac{1}{3}=\\frac{1}{6}$\n",
    "\n",
    "$P(B\\mid A)= \\frac{P(A\\cap B)}{P(A)} = \\frac{\\frac{1}{6}}{\\frac{1}{3}} = \\frac{1}{2}$\n",
    "\n",
    "$P(A\\cap B^{c})=P(A) + P(B^{c}) - P(A\\cap B^{c}) = \\frac{1}{3}+\\frac{3}{4}-\\frac{1}{6} = \\frac{11}{12}$"
   ]
  },
  {
   "cell_type": "markdown",
   "metadata": {},
   "source": [
    "### d) $P(AB^{c}) = P(A U B^{c}) = P(B^{c}\\mid A)\\cdot P(A) = (1-P(B\\mid A))\\cdot P(A)= \\left ( 1-\\frac{1}{2}\\right )\\cdot \\frac{1}{3}=\\frac{1}{6}$"
   ]
  },
  {
   "cell_type": "markdown",
   "metadata": {},
   "source": [
    "### e) $P(A^{c} U B^{c}) = P(A^{c})+P(B^{c})-P(A^{c}\\cap B^{c})=\\frac{2}{3}+\\frac{3}{4}-\\left (1-\\frac{1}{6}  \\right) = \\frac{7}{12} $"
   ]
  },
  {
   "cell_type": "markdown",
   "metadata": {},
   "source": [
    "## Exercício 2"
   ]
  },
  {
   "cell_type": "markdown",
   "metadata": {},
   "source": [
    "$X\\sim U (0,2)$\n",
    "\n",
    "### a) \n",
    "Fórmula da função cumulativa\n",
    "\n",
    "Utilizando a condição crucial de \"normalização\", temos:\n",
    "$\\int_{-\\infty}^{\\infty} f_{X}(x)dx = 1$\n",
    "\n",
    "Onde c é uma constante desconhecida\n",
    "\n",
    "$\\int_{a}^{b}c = 1$\n",
    "\n",
    "$\\left [ x \\right ]_{a}^b \\cdot c = 1$\n",
    "\n",
    "$c = \\frac{1}{b-a}$\n",
    "\n",
    "Portanto \n",
    "    $f_{X}(x)= \\begin{cases} c, \\ se \\ x \\ \\epsilon \\ [a,b]\\\\ \n",
    "    0 ,\\ caso\\  contrario \\end{cases}$"
   ]
  },
  {
   "cell_type": "markdown",
   "metadata": {
    "collapsed": true
   },
   "source": [
    "### b)\n",
    "$E[X] =$ $\\int_{a}^{b}x \\ f_{X}(x) \\ dx = \\int_{a}^{b} x\\frac{1}{b-a} \\ dx = \\frac{b+a}{2} = 1$\n",
    "\n",
    "$E[X^{2}] = \\int_{a}^{b}x^{2} \\ f_{X}(x) \\ dx = \\frac{x^{3}}{6} = \\frac{4}{3}$\n",
    "\n",
    "$E[X^{3}] = \\int_{a}^{b}x^{3} \\ f_{X}(x) \\ dx = \\frac{x^{4}}{8} = 2$"
   ]
  },
  {
   "cell_type": "markdown",
   "metadata": {},
   "source": [
    "## Exercício 3\n",
    "\n",
    "### a) \n",
    "Entropia: é a informação média relacionada às observações relativas à variável aleatória. Também, é uma medida da incerteza da média associada à variável.\n",
    "\n",
    "Quando um dos valores é mais provável que o outro, temos uma \"expectativa mais precisa\" do resultado da observação de X, ou seja, uma menor incerteza, consequantemente menor entropia. Portanto, o caso equiprovável ($X_{2}$) terá uma maior entropia."
   ]
  },
  {
   "cell_type": "markdown",
   "metadata": {},
   "source": [
    "### b) $H(X) = -\\sum_{x} p(x)log_{2} (p(x))$\n",
    "\n",
    "$H(X_{1}) = -(0.1 log_{2} (0.1)+0.2log_{2} (0.2)+0.3 log_{2} (0.3)+0.4 log_{2} (0.4)) = 0.8499$\n",
    "\n",
    "$H(X_{2}) = -4(0.25log_{2} (0.25)) = 2$\n",
    "\n"
   ]
  },
  {
   "cell_type": "markdown",
   "metadata": {},
   "source": [
    "### c)  $D(PA||PB) = -\\sum_{x} p(x)log_{2} \\left ( \\frac{PA(x)}{PB(x)} \\right )$\n",
    "\n",
    "$D(P1 \\parallel P2) = - ( 0.1 log_{2}( \\frac{0.1}{0.25}) + 0.2 log_{2}(\\frac{0.2}{0.25}) + 0.3 log_{2}(\\frac{0.3}{0.25}) +0.4 log_{2}(\\frac{0.4}{0.25})) = -0.1535$\n",
    "\n",
    "$D(P2 \\parallel P1) = - ( 0.25 log_{2}( \\frac{0.25}{0.1}) + 0.25 log_{2}(\\frac{0.25}{0.2}) + 0.25 log_{2}(\\frac{0.25}{0.3}) +0.25 log_{2}(\\frac{0.25}{0.4})) = -0.7354$"
   ]
  },
  {
   "cell_type": "markdown",
   "metadata": {},
   "source": [
    "## Exercício 4 \n",
    "\n",
    "$x = {1, 2, ..., N}$\n",
    "\n",
    "$N \\sim (\\mu , \\sigma^{2})$\n",
    "\n",
    "$p(x) = \\frac{1}{\\sqrt{2\\pi}\\sigma} exp(\\frac{-(x-\\mu)}{2\\sigma^{2}})$\n",
    "\n",
    "$\\mathcal{L} = argmax_{(\\mu, \\sigma^{2})} p(x|(\\mu, \\sigma^{2}))$\n"
   ]
  },
  {
   "cell_type": "markdown",
   "metadata": {},
   "source": [
    "### a) \n",
    "\n",
    "$\\mathcal{L} = argmax_{\\mu} p(x|\\mu)$\n",
    "\n",
    "$\\frac{\\partial \\mathcal{L}}{\\partial \\mu} = 0$\n",
    "\n",
    "$\\frac{\\partial \\mathcal{L}}{\\partial \\mu} = \\frac{\\partial }{\\partial \\mu} (\\frac{-1(x1 - \\mu)^{2}}{2\\sigma^{2}})$\n",
    "\n",
    "$\\frac{\\partial \\mathcal{L}}{\\partial \\mu} = \\frac{-1}{2\\sigma^{2}} \\frac{\\partial }{\\partial \\mu}(x1-\\mu )^{2}$ \n",
    "\n",
    "$\\frac{\\partial \\mathcal{L}}{\\partial \\mu}= \\frac{(x1-\\mu)}{\\sigma^{2}}$\n",
    "\n",
    "$\\mu = x1$"
   ]
  },
  {
   "cell_type": "markdown",
   "metadata": {},
   "source": [
    "### b)\n",
    "\n",
    "$\\mathcal{L} = \\prod_{i=1}^{N} argmax_{\\mu} p(x_{i}| \\mu)$\n",
    "\n",
    "$\\mathcal{L} = \\prod_{i=1}^{N} argmax_{\\mu} \\frac{1}{\\sqrt{2\\pi}\\sigma} exp(\\frac{-(x_{i}-\\mu)}{2\\sigma^{2}})$\n",
    "\n",
    "\n",
    "Para facilitar os cálculos, utilizaremos no próximo item a verossimilhança logarítmica."
   ]
  },
  {
   "cell_type": "markdown",
   "metadata": {},
   "source": [
    "### c)\n",
    "\n",
    "$\\mathcal{L}_{2} = (\\frac{1}{\\sqrt{2\\pi}\\sigma})^{N} exp(-\\sum_{i=1}^{N}\\frac{(x_{i}-\\mu)^{2}}{2\\sigma^{2}})$\n",
    "\n",
    "$\\mathcal{L}_{2} = - \\frac{N}{2} ({2\\pi}\\sigma^{2}) - \\frac{1}{2\\sigma^{2}} \\sum_{i=1}^{N}(x_{i}-\\mu)^{2}$\n",
    "\n",
    "$\\frac{\\partial \\mathcal{L}_{2}}{\\partial \\mu} = 0$\n",
    "\n",
    "$\\frac{\\partial \\mathcal{L}_{2}}{\\partial \\mu} = \\frac{\\partial }{\\partial \\mu} (- \\frac{N}{2} ({2\\pi}\\sigma^{2}) - \\frac{1}{2\\sigma^{2}} \\sum_{i=1}^{N}(x_{i}-\\mu)^{2})$\n",
    "\n",
    "$\\frac{\\partial \\mathcal{L}_{2}}{\\partial \\mu} = \\frac{\\partial }{\\partial \\mu} (- \\frac{1}{2\\sigma^{2}} \\sum_{i=1}^{N}(x_{i}-\\mu)^{2})$\n",
    "\n",
    "$\\frac{\\partial \\mathcal{L}_{2}}{\\partial \\mu} = \\sum_{i=1}^{N} \\frac{\\partial }{\\partial \\mu} (- \\frac{1}{2\\sigma^{2}} (x_{i}-\\mu)^{2})$\n",
    "\n",
    "Utilizando a regra da cadeia, obtemos:\n",
    "\n",
    "$\\frac{\\partial \\mathcal{L}_{2}}{\\partial \\mu} = \\sum_{i=1}^{N} \\frac{\\partial }{\\partial \\mu} ((- \\frac{1}{2\\sigma^{2}}) (x_{i}-\\mu)^{2}) + (- \\frac{1}{2\\sigma^{2}}) \\frac{\\partial }{\\partial \\mu} (x_{i}-\\mu)^{2})$\n",
    "\n",
    "$\\frac{\\partial \\mathcal{L}_{2}}{\\partial \\mu} = \\sum_{i=1}^{N} (- \\frac{1}{2\\sigma^{2}}) \\frac{\\partial }{\\partial \\mu} (x_{i}-\\mu)^{2})$\n",
    "\n",
    "$\\frac{\\partial \\mathcal{L}_{2}}{\\partial \\mu} = (- \\frac{1}{2\\sigma^{2}}) \\sum_{i=1}^{N}  \\frac{\\partial }{\\partial \\mu} (x_{i}-\\mu)^{2})$\n",
    "\n",
    "Utilizando novamente a regra da cadeia, obtemos:\n",
    "\n",
    "$\\frac{\\partial \\mathcal{L}_{2}}{\\partial \\mu} = (- \\frac{1}{2\\sigma^{2}}) \\sum_{i=1}^{N} 2 (x_{i}-\\mu) (-1)$\n",
    "\n",
    "$\\frac{\\partial \\mathcal{L}_{2}}{\\partial \\mu} = ( \\frac{1}{\\sigma^{2}}) \\sum_{i=1}^{N} (x_{i}-\\mu)$\n",
    "\n",
    "Como: $\\frac{\\partial \\mathcal{L}_{2}}{\\partial \\mu} = 0$, então:\n",
    "\n",
    "$0 = (\\frac{1}{\\sigma^{2}}) \\sum_{i=1}^{N} (x_{i}-\\mu)$\n",
    "\n",
    "$0 =  \\sum_{i=1}^{N} (x_{i}-\\mu)$\n",
    "\n",
    "$0 =  \\sum_{i=1}^{N} x_{i} - \\sum_{i=1}^{N}\\mu$\n",
    "\n",
    "$0 =  \\sum_{i=1}^{N} x_{i} - N\\mu$\n",
    "\n",
    "$\\mu = \\frac{1}{N} \\sum_{i=1}^{N} x_{i}$"
   ]
  },
  {
   "cell_type": "markdown",
   "metadata": {},
   "source": [
    "# Parte2 - Atividade Computacional"
   ]
  },
  {
   "cell_type": "code",
   "execution_count": 3,
   "metadata": {},
   "outputs": [],
   "source": [
    "%matplotlib inline\n",
    "import matplotlib.pyplot as plt\n",
    "import numpy as np\n",
    "from numpy.linalg import inv\n",
    "#from IPython.display import display, Math, Latex\n",
    "#display(Math(r'F(k) = \\int_{-\\infty}^{\\infty} f(x) e^{2\\pi i k} dx'))"
   ]
  },
  {
   "cell_type": "code",
   "execution_count": 1,
   "metadata": {},
   "outputs": [],
   "source": [
    "def kfoldcv(indices, k):\n",
    "    \n",
    "    size = len(indices)\n",
    "    subset_size = round(size / k)\n",
    "    \n",
    "    subsets = [indices[x:x+subset_size] for x in range(0, len(indices), subset_size)]\n",
    "\n",
    "    kfolds = []\n",
    "    for i in range(k):\n",
    "        test = subsets[i]\n",
    "        train = []\n",
    "        for subset in subsets:\n",
    "            if subset != test:\n",
    "                train.append(subset)\n",
    "        kfolds.append((train,test))\n",
    "        \n",
    "    return kfolds\n",
    "\n",
    "def ONES(matrix):\n",
    "    one = np.ones((matrix.shape[0],1))\n",
    "    M_b = np.concatenate((one, matrix), axis=1)\n",
    "    return M_b\n",
    "\n",
    "\n",
    "def ridge(phi, lamb, label_train):\n",
    "    Fi_b = ONES(phi)\n",
    "    Fis = np.dot(Fi_b.T, Fi_b)\n",
    "    I = np.eye(Fis.shape[1])\n",
    "    I[0][0] = 0\n",
    "    w = (Fis + lamb*I)\n",
    "    Wr = np.dot(np.dot(inv(w), Fi_b.T), label_train)\n",
    "    return Wr"
   ]
  },
  {
   "cell_type": "code",
   "execution_count": 46,
   "metadata": {},
   "outputs": [
    {
     "name": "stdout",
     "output_type": "stream",
     "text": [
      "(3112,)\n",
      "[91.2 65.7 63.3 ...  4.8  4.1 10.8]\n"
     ]
    }
   ],
   "source": [
    "X = np.genfromtxt('Sunspot.txt')\n",
    "#print(X[0][1:])\n",
    "#print (len(X))\n",
    "x_l = []\n",
    "for i in range(len(X)):\n",
    "    x_l.append(X[i][1:])\n",
    "x = np.array(x_l)\n",
    "#print (x.size)\n",
    "\n",
    "x_train = x[0:261]\n",
    "x_test = x[261:266]\n",
    "\n",
    "#print (x)\n",
    "#print (x_train.size)\n",
    "#print (x_test.size)\n",
    "\n",
    "#print (x)\n",
    "x_total = np.reshape(x, x.size)\n",
    "x_tr = np.reshape(x_train, x_train.size)\n",
    "x_te = np.reshape(x_test, x_test.size)\n",
    "#print (len(x_train), len(x_test))\n",
    "\n",
    "#print (x_tr[17:22])\n",
    "#print (x_te)\n",
    "#print (len(x_tr)-20)\n",
    "#print (x_total.shape)\n",
    "\n",
    "y_train = x_tr[20:len(x_tr)]\n",
    "#print (len(y_train))\n",
    "print (y_train.shape)\n",
    "print (y_train)"
   ]
  },
  {
   "cell_type": "code",
   "execution_count": 5,
   "metadata": {},
   "outputs": [
    {
     "name": "stdout",
     "output_type": "stream",
     "text": [
      "(3112, 20)\n",
      "[[103.   85.4 100.  ...  70.   62.6  58. ]\n",
      " [ 91.2 103.   85.4 ...  55.7  70.   62.6]\n",
      " [ 65.7  91.2 103.  ...  85.   55.7  70. ]\n",
      " ...\n",
      " [  4.3   0.    3.2 ...   2.9   9.3   2.1]\n",
      " [  4.8   4.3   0.  ...   3.2   2.9   9.3]\n",
      " [  4.1   4.8   4.3 ...   3.4   3.2   2.9]]\n",
      "(3112, 21)\n"
     ]
    }
   ],
   "source": [
    "K = 20\n",
    "F = np.zeros((len(x_tr)-K, K))\n",
    "print (F.shape)\n",
    "\n",
    "for j in range(len(x_tr)-K):\n",
    "    F[j][:] = [(x_tr[K-2+j-i]) for i in range(-1,K-1)]\n",
    "    \n",
    "#Funcionando\n",
    "#for j in range(len(x_tr)-K-1):\n",
    " #   Fi[j][:] = [(x_tr[K-2+j-i]) for i in range(-1,K-1)]\n",
    "#print (F.shape)\n",
    "print (F)\n",
    "\n",
    "#print (F)\n",
    "one = np.ones((F.shape[0],1))\n",
    "Fi = np.concatenate((one, F), axis=1)\n",
    "print (Fi.shape)\n",
    "#print (Fi)"
   ]
  },
  {
   "cell_type": "code",
   "execution_count": 6,
   "metadata": {},
   "outputs": [
    {
     "name": "stdout",
     "output_type": "stream",
     "text": [
      "[ 3.40753279e+00  5.42742346e-01  9.36178958e-02  1.01431739e-01\n",
      "  8.66568705e-02  3.81649881e-02  6.33077050e-02  8.09135445e-04\n",
      "  2.78924119e-02  9.55003770e-02  2.07517303e-02  2.67433309e-02\n",
      "  5.34725403e-03 -3.01700873e-02  2.73501594e-02  1.32974778e-02\n",
      " -4.66236520e-02 -5.55622599e-04 -7.26082436e-02 -7.74804120e-03\n",
      " -5.20224438e-02]\n"
     ]
    }
   ],
   "source": [
    "W = np.dot((np.dot(inv(np.dot(Fi.T, Fi)), Fi.T)), y_train)\n",
    "#w = np.dot(Fi.T, Fi)\n",
    "#w2 = inv(w)\n",
    "print (W)"
   ]
  },
  {
   "cell_type": "code",
   "execution_count": 7,
   "metadata": {},
   "outputs": [],
   "source": [
    "F_test = np.zeros((len(x_te), K))\n",
    "F_test.shape\n",
    "\n",
    "#print (x_total[3112:3132])\n",
    "N = len(x_total)\n",
    "M = len(x_te)\n",
    "M, N\n",
    "\n",
    "for j in range(M):\n",
    "    F_test[j][:] = [(x_total[N-M-2+j-i]) for i in range(-1,K-1)]\n",
    "\n",
    "one_te = np.ones((F_test.shape[0],1))\n",
    "#print (F_test.shape)\n",
    "Fi_te = np.concatenate((one_te, F_test), axis=1)\n",
    "\n",
    "Y_test = np.dot(Fi_te, W)\n",
    "Y_train = np.dot(Fi, W)\n",
    "#print (Y_test.shape)"
   ]
  },
  {
   "cell_type": "markdown",
   "metadata": {},
   "source": [
    "## Erro quadrático médio"
   ]
  },
  {
   "cell_type": "code",
   "execution_count": 8,
   "metadata": {},
   "outputs": [
    {
     "name": "stdout",
     "output_type": "stream",
     "text": [
      "rmse test: 14.249451112744666\n",
      "rmse train: 15.370232088543426\n"
     ]
    }
   ],
   "source": [
    "#rmse = rmse(Y_test, x_te)\n",
    "def RMSE(y_test, y_pred):\n",
    "    e = y_test - y_pred\n",
    "    e2 = e **2\n",
    "    mean_e2 = e2.mean()\n",
    "    #rmse = \"%.2f\" % np.sqrt(mean_e2)\n",
    "    rmse = np.sqrt(mean_e2)\n",
    "    return rmse\n",
    "\n",
    "#diff = x_te - Y_test\n",
    "#diff_2 = diff **2\n",
    "#mean_diff_2 = diff_2.mean()\n",
    "#rmse = np.sqrt(mean_diff_2)\n",
    "\n",
    "rmse_test = RMSE(Y_test, x_te)\n",
    "print (\"rmse test:\",rmse_test)\n",
    "rmse_train = RMSE(Y_train, y_train)\n",
    "print (\"rmse train:\",rmse_train)"
   ]
  },
  {
   "cell_type": "code",
   "execution_count": 9,
   "metadata": {},
   "outputs": [
    {
     "data": {
      "image/png": "[encoded data removed]",
      "text/plain": [
       "<Figure size 432x288 with 1 Axes>"
      ]
     },
     "metadata": {},
     "output_type": "display_data"
    }
   ],
   "source": [
    "plt.plot(x_te, label='Original')\n",
    "plt.plot(Y_test, 'r', label='Estimada')\n",
    "plt.legend()\n",
    "plt.show()"
   ]
  },
  {
   "cell_type": "markdown",
   "metadata": {},
   "source": [
    "# Item b"
   ]
  },
  {
   "cell_type": "code",
   "execution_count": 10,
   "metadata": {},
   "outputs": [],
   "source": [
    "def CV_Ridge(Fi_M, k, lambdas, y_train_m): \n",
    "    rmse_results = []\n",
    "    lambda_argmin_list = []\n",
    "    lambda_min_list = []\n",
    "    \n",
    "    indices = range(0,Fi_M.shape[0])\n",
    "    CV = kfoldcv(indices, k)\n",
    "    rmse_lambda = []\n",
    "    \n",
    "    for j in lambdas:\n",
    "        rmse_list = []        \n",
    "        for train_index, test_index in CV:\n",
    "            #print (\"train:\", train_index, \"test:\", test_index)\n",
    "            Fi_train, Fi_test = [Fi_M[i] for i in train_index], Fi_M[test_index]\n",
    "            label_train, label_test = [y_train_m[i] for i in train_index], y_train_m[test_index]\n",
    "\n",
    "            Fi_train_all = np.array(Fi_train[0])\n",
    "            #train_lengths = [Fi_train[0].shape[0]]\n",
    "            for i in range(1, len(Fi_train)):\n",
    "                Fi_train_all = np.vstack ((Fi_train_all, np.array(Fi_train[i])))\n",
    "                #train_lengths.append(Fi_train[i].shape[0])\n",
    "                Fi_train_all = Fi_train_all\n",
    "\n",
    "            label_train_all = np.array(label_train[0])\n",
    "            #train_lengths_l = [Fi_train[0].shape[0]]\n",
    "            for i in range(1, len(label_train)):\n",
    "                label_train_all = np.vstack ((label_train_all, np.array(label_train[i])))\n",
    "               #train_lengths_l.append(label_train[i].shape[0])\n",
    "                label_train_all = label_train_all\n",
    "            label_train_all_re = np.reshape(label_train_all, label_train_all.size)\n",
    "\n",
    "            #Ridge regression\n",
    "            Wr = ridge(Fi_train_all, j, label_train_all_re)   \n",
    "            Fi_test_b = ONES(Fi_test)\n",
    "            y_estimado = np.dot(Fi_test_b, Wr)\n",
    "            rmse = RMSE(label_test, y_estimado)\n",
    "            rmse_list.append(rmse)\n",
    "        rmse_mean = np.mean(rmse_list)      \n",
    "        rmse_lambda.append(rmse_mean)\n",
    "        rmse_results.append([[j], [rmse_mean]])\n",
    "\n",
    "    #print (rmse_lambda)\n",
    "    lambda_argmin = np.argmin(rmse_lambda)\n",
    "    lambda_min = min(rmse_lambda)\n",
    "    lambda_argmin_list.append(lambda_argmin)\n",
    "    lambda_min_list.append(lambda_min)\n",
    "    #print (lambda_min_list)\n",
    "    \n",
    "    return lambda_min_list\n",
    "\n",
    "#min_a = min(lambda_min_list)\n",
    "#min_arga = np.argmin(lambda_min_list)     \n",
    "#print (min_a)\n",
    "#print (min_arga+1)\n",
    "\n",
    "def Min_argmin(list_min):\n",
    "    min_a = min(list_min)\n",
    "    min_arg = np.argmin(list_min)     \n",
    "    #print (min_a)\n",
    "    #print (min_arga+1)\n",
    "    return min_a, min_arg\n",
    "\n",
    "def Atrasos(Fi_X, k, lambdas, y_l, min_arg, ent):\n",
    "    rmse_real = []\n",
    "    J = Fi_X.shape[1]\n",
    "    for a in range(0,J):\n",
    "        Fi_m = np.delete(Fi_X, np.s_[min_arg:min_arg+ent], axis=1)\n",
    "        phi = np.delete(Fi_m, np.s_[a:a+1], axis=1)\n",
    "        #print (phi19.shape)\n",
    "        rmse_a = CV_Ridge(phi, k, lambdas, y_l)\n",
    "        rmse_real.append(rmse_a)\n",
    "    #print (phi[0][:])\n",
    "    min_a, min_arg = Min_argmin(rmse_real)\n",
    "    print (min_a, min_arg)\n",
    "    print (phi[0][:])\n",
    "    print (phi.shape)\n",
    "    return min_a, min_arg, phi\n",
    "    #print (\"minimo rmse:\", min_a19, \"sem o atraso:\", min_arg19)\n",
    "    "
   ]
  },
  {
   "cell_type": "code",
   "execution_count": 11,
   "metadata": {},
   "outputs": [
    {
     "name": "stdout",
     "output_type": "stream",
     "text": [
      "(3110, 20)\n",
      "[[103.   85.4 100.  ...  70.   62.6  58. ]\n",
      " [ 91.2 103.   85.4 ...  55.7  70.   62.6]\n",
      " [ 65.7  91.2 103.  ...  85.   55.7  70. ]\n",
      " ...\n",
      " [  3.2   2.9   2.9 ...   2.1   3.3  10.1]\n",
      " [  0.    3.2   2.9 ...   9.3   2.1   3.3]\n",
      " [  4.3   0.    3.2 ...   2.9   9.3   2.1]]\n"
     ]
    }
   ],
   "source": [
    "lambdas = [0.0001, 0.05, 0.1, 0.5, 1, 10, 10**3, 10**4, 10**6, 10**8, 10**9]\n",
    "Fi_lol = np.delete(F, np.s_[F.shape[0]-2:F.shape[0]], 0)\n",
    "print (Fi_lol.shape)\n",
    "print (Fi_lol)"
   ]
  },
  {
   "cell_type": "code",
   "execution_count": 12,
   "metadata": {},
   "outputs": [
    {
     "name": "stdout",
     "output_type": "stream",
     "text": [
      "[91.2 65.7 63.3 ...  4.8  4.1 10.8]\n",
      "[91.2 65.7 63.3 ...  0.   4.3  4.8]\n"
     ]
    }
   ],
   "source": [
    "y_lol = y_train[0:3110]\n",
    "print (y_train)\n",
    "print (y_lol)"
   ]
  },
  {
   "cell_type": "code",
   "execution_count": 13,
   "metadata": {},
   "outputs": [
    {
     "name": "stdout",
     "output_type": "stream",
     "text": [
      "[15.330896917317215] 6\n",
      "[103.   85.4 100.   90.   88.3  89.2  75.9  73.3  85.2 158.6  75.5  75.9\n",
      "  66.3  94.8  83.5  85.   55.7  70.   62.6]\n",
      "(3110, 19)\n"
     ]
    }
   ],
   "source": [
    "k =10\n",
    "\n",
    "#Fi3110 = np.delete(F, np.s_[F.shape[0]-2:F.shape[0]], 0)\n",
    "#print (Fi3110.shape)\n",
    "#print (Fi3110)\n",
    "\n",
    "Fi19, argmin19, phi19 = Atrasos(Fi_lol, k, lambdas, y_lol, 0, 0)"
   ]
  },
  {
   "cell_type": "code",
   "execution_count": 14,
   "metadata": {},
   "outputs": [
    {
     "name": "stdout",
     "output_type": "stream",
     "text": [
      "[15.329357366675438] 10\n",
      "[103.   85.4 100.   90.   88.3  89.2  73.3  85.2 158.6  75.5  75.9  66.3\n",
      "  94.8  83.5  85.   55.7  70.   62.6]\n",
      "(3110, 18)\n"
     ]
    }
   ],
   "source": [
    "Fi18, argmin18, phi18 = Atrasos(phi19, k, lambdas, y_lol, argmin19, 1)"
   ]
  },
  {
   "cell_type": "code",
   "execution_count": 15,
   "metadata": {},
   "outputs": [
    {
     "name": "stdout",
     "output_type": "stream",
     "text": [
      "[15.316710991035302] 12\n",
      "[103.   85.4 100.   90.   88.3  89.2  73.3  85.2 158.6  75.5  66.3  94.8\n",
      "  83.5  85.   55.7  70.   62.6]\n",
      "(3110, 17)\n"
     ]
    }
   ],
   "source": [
    "Fi17, argmin17, phi17 = Atrasos(phi18, k, lambdas, y_lol, argmin18, 1)"
   ]
  },
  {
   "cell_type": "code",
   "execution_count": 16,
   "metadata": {},
   "outputs": [
    {
     "name": "stdout",
     "output_type": "stream",
     "text": [
      "[15.30774285197307] 13\n",
      "[103.   85.4 100.   90.   88.3  89.2  73.3  85.2 158.6  75.5  66.3  94.8\n",
      "  85.   55.7  70.   62.6]\n",
      "(3110, 16)\n"
     ]
    }
   ],
   "source": [
    "Fi16, argmin16, phi16 = Atrasos(phi17, k, lambdas, y_lol, argmin17, 1)"
   ]
  },
  {
   "cell_type": "code",
   "execution_count": 17,
   "metadata": {},
   "outputs": [
    {
     "name": "stdout",
     "output_type": "stream",
     "text": [
      "[15.303666583282572] 10\n",
      "[103.   85.4 100.   90.   88.3  89.2  73.3  85.2 158.6  75.5  66.3  94.8\n",
      "  85.   70.   62.6]\n",
      "(3110, 15)\n"
     ]
    }
   ],
   "source": [
    "Fi15, argmin15, phi15 = Atrasos(phi16, k, lambdas, y_lol, argmin16, 1)"
   ]
  },
  {
   "cell_type": "code",
   "execution_count": 18,
   "metadata": {},
   "outputs": [
    {
     "name": "stdout",
     "output_type": "stream",
     "text": [
      "[15.2967219746082] 10\n",
      "[103.   85.4 100.   90.   88.3  89.2  73.3  85.2 158.6  75.5  94.8  85.\n",
      "  70.   62.6]\n",
      "(3110, 14)\n"
     ]
    }
   ],
   "source": [
    "Fi14, argmin14, phi14 = Atrasos(phi15, k, lambdas, y_lol, argmin15, 1)"
   ]
  },
  {
   "cell_type": "code",
   "execution_count": 19,
   "metadata": {},
   "outputs": [
    {
     "name": "stdout",
     "output_type": "stream",
     "text": [
      "[15.294521235275488] 8\n",
      "[103.   85.4 100.   90.   88.3  89.2  73.3  85.2 158.6  75.5  85.   70.\n",
      "  62.6]\n",
      "(3110, 13)\n"
     ]
    }
   ],
   "source": [
    "Fi13, argmin13, phi13 = Atrasos(phi14, k, lambdas, y_lol, argmin14, 1)"
   ]
  },
  {
   "cell_type": "code",
   "execution_count": 20,
   "metadata": {},
   "outputs": [
    {
     "name": "stdout",
     "output_type": "stream",
     "text": [
      "[15.294521235275488] 12\n",
      "[103.   85.4 100.   90.   88.3  89.2  73.3  85.2  75.5  85.   70.   62.6]\n",
      "(3110, 12)\n"
     ]
    }
   ],
   "source": [
    "Fi12, argmin12, phi12 = Atrasos(phi13, k, lambdas, y_lol, argmin13, 1)"
   ]
  },
  {
   "cell_type": "code",
   "execution_count": 21,
   "metadata": {},
   "outputs": [
    {
     "name": "stdout",
     "output_type": "stream",
     "text": [
      "[15.296231462276296] 8\n",
      "[103.   85.4 100.   90.   88.3  89.2  73.3  85.2  75.5  85.   70. ]\n",
      "(3110, 11)\n"
     ]
    }
   ],
   "source": [
    "Fi11, argmin11, phi11 = Atrasos(phi12, k, lambdas, y_lol, argmin12, 1)"
   ]
  },
  {
   "cell_type": "code",
   "execution_count": 22,
   "metadata": {},
   "outputs": [
    {
     "name": "stdout",
     "output_type": "stream",
     "text": [
      "[15.298686780258654] 10\n",
      "[103.   85.4 100.   90.   88.3  89.2  73.3  85.2  85.   70. ]\n",
      "(3110, 10)\n"
     ]
    }
   ],
   "source": [
    "Fi10, argmin10, phi10 = Atrasos(phi11, k, lambdas, y_lol, argmin11, 1)"
   ]
  },
  {
   "cell_type": "code",
   "execution_count": 23,
   "metadata": {},
   "outputs": [
    {
     "name": "stdout",
     "output_type": "stream",
     "text": [
      "[15.301582146962039] 6\n",
      "[103.   85.4 100.   90.   88.3  89.2  73.3  85.2  85. ]\n",
      "(3110, 9)\n"
     ]
    }
   ],
   "source": [
    "Fi9, argmin9, phi9 = Atrasos(phi10, k, lambdas, y_lol, argmin10, 1)"
   ]
  },
  {
   "cell_type": "code",
   "execution_count": 24,
   "metadata": {},
   "outputs": [
    {
     "name": "stdout",
     "output_type": "stream",
     "text": [
      "[15.386394079585504] 8\n",
      "[103.   85.4 100.   90.   88.3  89.2  85.2  85. ]\n",
      "(3110, 8)\n"
     ]
    }
   ],
   "source": [
    "Fi8, argmin8, phi8 = Atrasos(phi9, k, lambdas, y_lol, argmin9, 1)"
   ]
  },
  {
   "cell_type": "code",
   "execution_count": 25,
   "metadata": {},
   "outputs": [
    {
     "name": "stdout",
     "output_type": "stream",
     "text": [
      "[15.390958833521037] 4\n",
      "[103.   85.4 100.   90.   88.3  89.2  85.2]\n",
      "(3110, 7)\n"
     ]
    }
   ],
   "source": [
    "Fi7, argmin7, phi7 = Atrasos(phi8, k, lambdas, y_lol, argmin8, 1)"
   ]
  },
  {
   "cell_type": "code",
   "execution_count": 26,
   "metadata": {},
   "outputs": [
    {
     "name": "stdout",
     "output_type": "stream",
     "text": [
      "[15.618632283310012] 6\n",
      "[103.   85.4 100.   90.   89.2  85.2]\n",
      "(3110, 6)\n"
     ]
    }
   ],
   "source": [
    "Fi6, argmin6, phi6 = Atrasos(phi7, k, lambdas, y_lol, argmin7, 1)"
   ]
  },
  {
   "cell_type": "code",
   "execution_count": 27,
   "metadata": {},
   "outputs": [
    {
     "name": "stdout",
     "output_type": "stream",
     "text": [
      "[15.619957791614297] 5\n",
      "[103.   85.4 100.   90.   89.2]\n",
      "(3110, 5)\n"
     ]
    }
   ],
   "source": [
    "Fi5, argmin5, phi5 = Atrasos(phi6, k, lambdas, y_lol, argmin6, 1)"
   ]
  },
  {
   "cell_type": "code",
   "execution_count": 28,
   "metadata": {},
   "outputs": [
    {
     "name": "stdout",
     "output_type": "stream",
     "text": [
      "[15.647458339171019] 4\n",
      "[103.   85.4 100.   90. ]\n",
      "(3110, 4)\n"
     ]
    }
   ],
   "source": [
    "Fi4, argmin4, phi4 = Atrasos(phi5, k, lambdas, y_lol, argmin5, 1)"
   ]
  },
  {
   "cell_type": "code",
   "execution_count": 29,
   "metadata": {},
   "outputs": [
    {
     "name": "stdout",
     "output_type": "stream",
     "text": [
      "[15.727296677209463] 2\n",
      "[103.   85.4 100. ]\n",
      "(3110, 3)\n"
     ]
    }
   ],
   "source": [
    "Fi3, argmin3, phi3 = Atrasos(phi4, k, lambdas, y_lol, argmin4, 1)"
   ]
  },
  {
   "cell_type": "code",
   "execution_count": 30,
   "metadata": {},
   "outputs": [
    {
     "name": "stdout",
     "output_type": "stream",
     "text": [
      "[16.103987679528778] 2\n",
      "[103.   85.4]\n",
      "(3110, 2)\n"
     ]
    }
   ],
   "source": [
    "Fi2, argmin2, phi2 = Atrasos(phi3, k, lambdas, y_lol, argmin3, 1)"
   ]
  },
  {
   "cell_type": "code",
   "execution_count": 31,
   "metadata": {},
   "outputs": [
    {
     "name": "stdout",
     "output_type": "stream",
     "text": [
      "[16.75587971344517] 1\n",
      "[103.]\n",
      "(3110, 1)\n"
     ]
    }
   ],
   "source": [
    "Fi1, argmin1, phi1 = Atrasos(phi2, k, lambdas, y_lol, argmin2, 1)"
   ]
  },
  {
   "cell_type": "code",
   "execution_count": 55,
   "metadata": {},
   "outputs": [
    {
     "name": "stdout",
     "output_type": "stream",
     "text": [
      "Menor valor de RMSE: [15.294521235275488]\n",
      "Melhor conjunto de variáveis:\n",
      " [[103.   85.4 100.  ...  85.   70.   62.6]\n",
      " [ 91.2 103.   85.4 ...  83.5  55.7  70. ]\n",
      " [ 65.7  91.2 103.  ...  94.8  85.   55.7]\n",
      " ...\n",
      " [  3.2   2.9   2.9 ...   2.9   2.1   3.3]\n",
      " [  0.    3.2   2.9 ...   3.2   9.3   2.1]\n",
      " [  4.3   0.    3.2 ...   3.4   2.9   9.3]]\n",
      "Representa os atrasos: [1, 2, 3, 4, 5, 6, 8, 9, 11, 16, 18, 20]\n",
      "Melhor valor de Lambda: 10000\n"
     ]
    },
    {
     "data": {
      "image/png": "[encoded data removed]",
      "text/plain": [
       "<Figure size 432x288 with 1 Axes>"
      ]
     },
     "metadata": {},
     "output_type": "display_data"
    }
   ],
   "source": [
    "lista_rmses = [Fi19, Fi18, Fi17, Fi16, Fi15, Fi14, Fi13, Fi12, Fi11, Fi10, Fi9, Fi8, Fi7, Fi6, Fi5, Fi4, Fi3, Fi2, Fi1]\n",
    "\n",
    "#print (np.array(lista_rmses))\n",
    "#print (np.argmin(np.array(lista_rmses)))\n",
    "#print (len(lista_rmses))\n",
    "print (\"Menor valor de RMSE:\", Fi12)\n",
    "print (\"Melhor conjunto de variáveis:\\n\", phi12)\n",
    "best_atrasos = [1,2,3,4,5,6,8,9,11,16,18, 20]\n",
    "print (\"Representa os atrasos:\", best_atrasos)\n",
    "print (\"Melhor valor de Lambda:\", lambdas[7])\n",
    "\n",
    "plt.plot(lista_rmses, 'r')\n",
    "plt.xticks(np.arange(0, 20, 2))\n",
    "#plt.xticks(np.linspace(1,20, 20, endpoint=True, retstep=False, dtype=None))\n",
    "plt.xlabel(\"Iterações com remoção dos atrasos\")\n",
    "plt.title(\"Rmses obtidos através do Wrappers e Backward Elimination\")\n",
    "plt.show()"
   ]
  },
  {
   "cell_type": "markdown",
   "metadata": {},
   "source": [
    "Obs.: O atraso 1 inicia em zero."
   ]
  },
  {
   "cell_type": "markdown",
   "metadata": {},
   "source": [
    "# Item c"
   ]
  },
  {
   "cell_type": "code",
   "execution_count": 34,
   "metadata": {},
   "outputs": [],
   "source": [
    "def pcc(X, Y):\n",
    "    ''' Compute Pearson Correlation Coefficient. '''\n",
    "    # Normalise X and Y \n",
    "    X -= X.mean(0)\n",
    "    Y -= Y.mean(0)\n",
    "    # Standardise X and Y\n",
    "    X /= X.std(0)\n",
    "    Y /= Y.std(0)\n",
    "    # Compute mean product\n",
    "    return np.mean(X*Y)\n"
   ]
  },
  {
   "cell_type": "code",
   "execution_count": 36,
   "metadata": {},
   "outputs": [],
   "source": [
    "#print (Fi_lol.shape)\n",
    "J = Fi_lol.shape[1]\n",
    "#print (y_lol.shape)\n",
    "\n",
    "CP_list = []\n",
    "for at in range(0,J):\n",
    "    #A = np.delete(Fi_lol, np.s_[at:Fi_lol.shape[1]], 1)\n",
    "    A = Fi_lol[:, at:at+1]\n",
    "    #print (A.shape)\n",
    "    #print (A, \"\\n\")\n",
    "    \n",
    "    A = np.reshape(A, A.shape[0])\n",
    "    #print ()\n",
    "    CP = pcc(A, y_lol)\n",
    "    #CP = np.corrcoef(A, y_lol)\n",
    "    CP_list.append(CP)\n",
    "   "
   ]
  },
  {
   "cell_type": "code",
   "execution_count": 37,
   "metadata": {},
   "outputs": [
    {
     "data": {
      "image/png": "[encoded data removed]",
      "text/plain": [
       "<Figure size 432x288 with 1 Axes>"
      ]
     },
     "metadata": {},
     "output_type": "display_data"
    }
   ],
   "source": [
    "plt.stem(np.array(CP_list))\n",
    "plt.title(\"Correlação de Pearson entre as entradas atrasadas e a saída desejada\")\n",
    "plt.xlabel(\"Atrasos\")\n",
    "plt.xticks(range(0, 20, 1))\n",
    "plt.show()"
   ]
  },
  {
   "cell_type": "markdown",
   "metadata": {},
   "source": [
    "Obs.: O atraso 1 inicia em zero."
   ]
  },
  {
   "cell_type": "markdown",
   "metadata": {},
   "source": [
    "Utilizando a correlação de Pearson foi possível notar que as variáveis com menor atraso são mais correlacionadas com a saídas desejadas do que as variáveis com maior atraso. Obtendo a mesma quantidade de variáveis encontradas no item anterior, vamos calcular o rmse para 12 variáveis, com o Ridge Regression, os mesmos valores de lambdas, e com o Kfold de 10 pastas como realizado no item b. "
   ]
  },
  {
   "cell_type": "code",
   "execution_count": 47,
   "metadata": {},
   "outputs": [
    {
     "name": "stdout",
     "output_type": "stream",
     "text": [
      "[[103.   85.4 100.  ...  70.   62.6  58. ]\n",
      " [ 91.2 103.   85.4 ...  55.7  70.   62.6]\n",
      " [ 65.7  91.2 103.  ...  85.   55.7  70. ]\n",
      " ...\n",
      " [  3.2   2.9   2.9 ...   2.1   3.3  10.1]\n",
      " [  0.    3.2   2.9 ...   9.3   2.1   3.3]\n",
      " [  4.3   0.    3.2 ...   2.9   9.3   2.1]]\n",
      "[91.2 65.7 63.3 ...  4.8  4.1 10.8]\n",
      "(3110,)\n",
      "[91.2 65.7 63.3 ...  0.   4.3  4.8]\n"
     ]
    }
   ],
   "source": [
    "Fi_lol = np.delete(F, np.s_[F.shape[0]-2:F.shape[0]], 0)\n",
    "print (Fi_lol)\n",
    "y_train_c = x_tr[20:len(x_tr)]\n",
    "y_lol_c = y_train_c[0:3110]\n",
    "print (y_train_c)\n",
    "print (y_lol.shape)\n",
    "print (y_lol_c)"
   ]
  },
  {
   "cell_type": "code",
   "execution_count": 48,
   "metadata": {},
   "outputs": [
    {
     "name": "stdout",
     "output_type": "stream",
     "text": [
      "(3110, 12)\n",
      "[[103.   85.4 100.  ... 158.6  75.5  75.9]\n",
      " [ 91.2 103.   85.4 ...  85.2 158.6  75.5]\n",
      " [ 65.7  91.2 103.  ...  73.3  85.2 158.6]\n",
      " ...\n",
      " [  3.2   2.9   2.9 ...   2.9   1.1   0.5]\n",
      " [  0.    3.2   2.9 ...   4.1   2.9   1.1]\n",
      " [  4.3   0.    3.2 ...   0.8   4.1   2.9]]\n",
      "(3110,)\n"
     ]
    }
   ],
   "source": [
    "k = 10\n",
    "Fi_c = Fi_lol[:, 0:12]\n",
    "#Fi_c = np.delete(Fi_lol, np.s_[10:Fi_lol.shape[1]], 1)\n",
    "\n",
    "print (Fi_c.shape)\n",
    "print (Fi_c)\n",
    "print (y_lol.shape)\n",
    "#rmse_min_c = CV_Ridge(Fi_c, k, lambdas, y_lol)\n",
    "#print (rmse_min_c)\n"
   ]
  },
  {
   "cell_type": "code",
   "execution_count": 56,
   "metadata": {},
   "outputs": [
    {
     "name": "stdout",
     "output_type": "stream",
     "text": [
      "Valores de lambdas e os RMSEs\n"
     ]
    },
    {
     "data": {
      "text/plain": [
       "[[[0.0001], [15.581451417000347]],\n",
       " [[0.05], [15.58145140651186]],\n",
       " [[0.1], [15.581451396002365]],\n",
       " [[0.5], [15.581451311927239]],\n",
       " [[1], [15.581451206835487]],\n",
       " [[10], [15.58144931559695]],\n",
       " [[1000], [15.58124603485185]],\n",
       " [[10000], [15.579814710015956]],\n",
       " [[1000000], [16.249609655524385]],\n",
       " [[100000000], [31.906099500177298]],\n",
       " [[1000000000], [41.99666698729683]]]"
      ]
     },
     "execution_count": 56,
     "metadata": {},
     "output_type": "execute_result"
    }
   ],
   "source": [
    "indices_c = range(0,Fi_c.shape[0])\n",
    "CV_c = kfoldcv(indices_c, k)\n",
    "\n",
    "\n",
    "rmse_results_c = []\n",
    "lambda_argmin_list_c = []\n",
    "lambda_min_list_c = []\n",
    "rmse_lambda_c = []\n",
    "Wr_list_mean = []\n",
    "\n",
    "for j in lambdas:\n",
    "    rmse_list_c = [] \n",
    "    Wr_list = []\n",
    "    for train_index, test_index in CV_c:\n",
    "        #print (\"train:\", train_index, \"test:\", test_index)\n",
    "        Fi_train, Fi_test = [Fi_c[i] for i in train_index], Fi_c[test_index]\n",
    "        label_train, label_test = [y_lol_c[i] for i in train_index], y_lol_c[test_index]\n",
    "\n",
    "        Fi_train_all = np.array(Fi_train[0])\n",
    "        #train_lengths = [Fi_train[0].shape[0]]\n",
    "        for i in range(1, len(Fi_train)):\n",
    "            Fi_train_all = np.vstack ((Fi_train_all, np.array(Fi_train[i])))\n",
    "            #train_lengths.append(Fi_train[i].shape[0])\n",
    "            Fi_train_all = Fi_train_all\n",
    "\n",
    "        label_train_all = np.array(label_train[0])\n",
    "        #train_lengths_l = [Fi_train[0].shape[0]]\n",
    "        for i in range(1, len(label_train)):\n",
    "            label_train_all = np.vstack ((label_train_all, np.array(label_train[i])))\n",
    "           #train_lengths_l.append(label_train[i].shape[0])\n",
    "            label_train_all = label_train_all\n",
    "        label_train_all_re = np.reshape(label_train_all, label_train_all.size)\n",
    "        #print (Fi_train_all.shape, Fi_test.shape, label_test.shape)\n",
    "\n",
    "        #Ridge regression\n",
    "        Wr_c = ridge(Fi_train_all, j, label_train_all_re)\n",
    "        #input()\n",
    "        #print (j, Wr_c)\n",
    "        Wr_list.append(Wr_c)\n",
    "        Fi_test_b = ONES(Fi_test)\n",
    "        \n",
    "        y_estimado = np.dot(Fi_test_b, Wr_c)\n",
    "        rmse = RMSE(label_test, y_estimado)\n",
    "        #input()\n",
    "        #print (rmse)\n",
    "        rmse_list_c.append(rmse)\n",
    "    #input()\n",
    "    #print (Wr_list)\n",
    "    #Wr_list_mk = (sum(Wr_list)/k)\n",
    "    #print (Wr_list_mk)\n",
    "    rmse_mean = np.mean(rmse_list_c)\n",
    "    #print (rmse_mean)\n",
    "    rmse_lambda_c.append(rmse_mean)\n",
    "    rmse_results_c.append([[j], [rmse_mean]])\n",
    "    \n",
    "    Wr_list_mean.append(Wr_list)\n",
    "    #Wr_list_mean.append(Wr_list_mk)\n",
    "\n",
    "#print (rmse_lambda)\n",
    "lambda_argmin = np.argmin(rmse_lambda_c)\n",
    "lambda_min = min(rmse_lambda_c)\n",
    "lambda_argmin_list_c.append(lambda_argmin)\n",
    "lambda_min_list_c.append(lambda_min)\n",
    "#print (lambda_min_list)\n",
    "print (\"Valores de lambdas e os RMSEs\")\n",
    "rmse_results_c"
   ]
  },
  {
   "cell_type": "code",
   "execution_count": 51,
   "metadata": {},
   "outputs": [
    {
     "name": "stdout",
     "output_type": "stream",
     "text": [
      "Menor RMSE: 15.579814710015956\n",
      "Melhor valor de lambda: 10000\n",
      "Filtro ótimo: \n",
      " [ 2.01386017e+00  5.74464934e-01  1.19170734e-01  9.89070256e-02\n",
      "  8.28682904e-02  3.97977387e-02  5.17249464e-02 -2.56643367e-03\n",
      "  1.90765116e-03  8.00721909e-02 -4.38553146e-03 -2.47480958e-02\n",
      " -5.72848774e-02]\n"
     ]
    }
   ],
   "source": [
    "min_rmse_wopt = np.argmin(rmse_lambda_c)\n",
    "print (\"Menor RMSE:\", min(rmse_lambda_c))\n",
    "Wr_opt = Wr_list_mean[7][9]\n",
    "#print (min_rmse_wopt)\n",
    "print (\"Melhor valor de lambda:\", lambdas[7])\n",
    "print (\"Filtro ótimo: \\n\", Wr_opt)"
   ]
  },
  {
   "cell_type": "code",
   "execution_count": 52,
   "metadata": {},
   "outputs": [
    {
     "data": {
      "image/png": "[encoded data removed]",
      "text/plain": [
       "<Figure size 432x288 with 1 Axes>"
      ]
     },
     "metadata": {},
     "output_type": "display_data"
    }
   ],
   "source": [
    "Fi_te_c = Fi_te[:, 0:13] \n",
    "Y_test_c = np.dot(Fi_te_c, Wr_opt)\n",
    "\n",
    "plt.plot(x_te, 'y', label='Original')\n",
    "plt.plot(Y_test_c, 'g', label='Estimada')\n",
    "plt.title(u\"Série temporal dos dados de teste aplicando Filtro com os 12 primeiros atrasos\")\n",
    "plt.legend()\n",
    "plt.show()"
   ]
  },
  {
   "cell_type": "markdown",
   "metadata": {},
   "source": [
    "# Conclusão"
   ]
  },
  {
   "cell_type": "markdown",
   "metadata": {},
   "source": [
    "Podemos notar que o valor de lambda foi o mesmo encontrado para o item b (10000). Esse valor pode ser justificado devido a não normalização (média e variância) dos dados de entrada, apesar de ser um valor alto, esse valor proporcionou um menor erro para esses dados. O RMSE do Filtro foi maior do que Wrapper (Filtro: 15.5798 , Wrapper: 15.2945), pois podemos notar que em algumas variáveis ou subconjuntos contém mais informações relevantes do que outras. Ou seja, podemos notar que os dados podem conter alguns atributos que são redundantes, ou até mesmo irrelevantes para a realização da regressão linear. Esse tipo de abordagem podem facilitar a visualização e a compreenção dos dados, minimizar o efeito da dimensionalidade (menos amostras podem ser suficientes para descrever o comportamento geral do mapeamento a ser aproximado) e consequentemente reduzir os custos envolvidos no armazenamento dos dados e no treinamento do modelo."
   ]
  },
  {
   "cell_type": "markdown",
   "metadata": {},
   "source": [
    "# Referências"
   ]
  },
  {
   "cell_type": "markdown",
   "metadata": {},
   "source": [
    "- https://medium.com/data-hackers/como-criar-k-fold-cross-validation-na-m%C3%A3o-em-python-c0bb06074b6b\n",
    "- Notas de aula: http://www.dca.fee.unicamp.br/~lboccato/ia006_1s2019.html\n",
    "- http://jrmeyer.github.io/machinelearning/2017/08/18/mle.html"
   ]
  }
 ],
 "metadata": {
  "kernelspec": {
   "display_name": "Python 3",
   "language": "python",
   "name": "python3"
  },
  "language_info": {
   "codemirror_mode": {
    "name": "ipython",
    "version": 3
   },
   "file_extension": ".py",
   "mimetype": "text/x-python",
   "name": "python",
   "nbconvert_exporter": "python",
   "pygments_lexer": "ipython3",
   "version": "3.6.5"
  }
 },
 "nbformat": 4,
 "nbformat_minor": 2
}
