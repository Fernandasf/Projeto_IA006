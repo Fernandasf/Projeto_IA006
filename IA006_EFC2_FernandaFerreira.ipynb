{
 "cells": [
  {
   "cell_type": "markdown",
   "metadata": {},
   "source": [
    "# Parte 1"
   ]
  },
  {
   "cell_type": "markdown",
   "metadata": {},
   "source": [
    "## Item a)"
   ]
  },
  {
   "cell_type": "markdown",
   "metadata": {},
   "source": [
    "## Item b)"
   ]
  },
  {
   "cell_type": "markdown",
   "metadata": {},
   "source": [
    "## Item c)"
   ]
  },
  {
   "cell_type": "markdown",
   "metadata": {},
   "source": [
    "Utilizando o critério da máxima verossimilhança foi obtido um valor de x = |1,09|.\n",
    "\n",
    "Utilizando o critério de máximo à posteriori foi obtido um valor de x = |0.38|."
   ]
  },
  {
   "cell_type": "markdown",
   "metadata": {},
   "source": [
    "# Parte 2 - Classificação Binária"
   ]
  },
  {
   "cell_type": "code",
   "execution_count": 1,
   "metadata": {},
   "outputs": [],
   "source": [
    "%matplotlib inline\n",
    "import matplotlib.pyplot as plt\n",
    "import numpy as np\n",
    "import pandas as pd\n",
    "from numpy.linalg import inv\n",
    "import operator"
   ]
  },
  {
   "cell_type": "markdown",
   "metadata": {},
   "source": [
    "## Item a)"
   ]
  },
  {
   "cell_type": "code",
   "execution_count": 2,
   "metadata": {},
   "outputs": [
    {
     "data": {
      "text/html": [
       "<div>\n",
       "<style scoped>\n",
       "    .dataframe tbody tr th:only-of-type {\n",
       "        vertical-align: middle;\n",
       "    }\n",
       "\n",
       "    .dataframe tbody tr th {\n",
       "        vertical-align: top;\n",
       "    }\n",
       "\n",
       "    .dataframe thead th {\n",
       "        text-align: right;\n",
       "    }\n",
       "</style>\n",
       "<table border=\"1\" class=\"dataframe\">\n",
       "  <thead>\n",
       "    <tr style=\"text-align: right;\">\n",
       "      <th></th>\n",
       "      <th>Unnamed: 0</th>\n",
       "      <th>x_1</th>\n",
       "      <th>x_2</th>\n",
       "      <th>y</th>\n",
       "    </tr>\n",
       "  </thead>\n",
       "  <tbody>\n",
       "    <tr>\n",
       "      <th>0</th>\n",
       "      <td>0</td>\n",
       "      <td>2.064430</td>\n",
       "      <td>0.546069</td>\n",
       "      <td>1.0</td>\n",
       "    </tr>\n",
       "    <tr>\n",
       "      <th>1</th>\n",
       "      <td>1</td>\n",
       "      <td>1.762473</td>\n",
       "      <td>-0.062689</td>\n",
       "      <td>1.0</td>\n",
       "    </tr>\n",
       "    <tr>\n",
       "      <th>2</th>\n",
       "      <td>2</td>\n",
       "      <td>-0.245490</td>\n",
       "      <td>1.068868</td>\n",
       "      <td>0.0</td>\n",
       "    </tr>\n",
       "    <tr>\n",
       "      <th>3</th>\n",
       "      <td>3</td>\n",
       "      <td>-0.174630</td>\n",
       "      <td>0.183882</td>\n",
       "      <td>1.0</td>\n",
       "    </tr>\n",
       "    <tr>\n",
       "      <th>4</th>\n",
       "      <td>4</td>\n",
       "      <td>0.452110</td>\n",
       "      <td>-0.406512</td>\n",
       "      <td>1.0</td>\n",
       "    </tr>\n",
       "  </tbody>\n",
       "</table>\n",
       "</div>"
      ],
      "text/plain": [
       "   Unnamed: 0       x_1       x_2    y\n",
       "0           0  2.064430  0.546069  1.0\n",
       "1           1  1.762473 -0.062689  1.0\n",
       "2           2 -0.245490  1.068868  0.0\n",
       "3           3 -0.174630  0.183882  1.0\n",
       "4           4  0.452110 -0.406512  1.0"
      ]
     },
     "execution_count": 2,
     "metadata": {},
     "output_type": "execute_result"
    }
   ],
   "source": [
    "features = pd.read_csv('two_moons.csv', sep=',')\n",
    "\n",
    "\n",
    "y_1 = features.loc[features[\"y\"] == 1.0]\n",
    "y_0 = features.loc[features[\"y\"] == 0.0]\n",
    "\n",
    "x_i = features.loc[:, 'x_1':'x_2']\n",
    "#x_i.head()\n",
    "x_i = np.array(x_i)\n",
    "y_i = features.loc[:, 'y']\n",
    "#y_i.head()\n",
    "y_i = np.array(y_i)\n",
    "y_i = np.reshape(y_i,(len(y_i), 1))\n",
    "#print (y_i.shape)\n",
    "\n",
    "features.head()\n"
   ]
  },
  {
   "cell_type": "code",
   "execution_count": 357,
   "metadata": {},
   "outputs": [
    {
     "data": {
      "image/png": "[encoded data removed]",
      "text/plain": [
       "<Figure size 432x288 with 1 Axes>"
      ]
     },
     "metadata": {},
     "output_type": "display_data"
    }
   ],
   "source": [
    "x_11 = y_1['x_1']\n",
    "x_21 = y_1['x_2']\n",
    "x_10 = y_0['x_1']\n",
    "x_20 = y_0['x_2']\n",
    "\n",
    "#plt.figure(figsize=(12,8))\n",
    "plt.scatter(x_11,x_21, c='b', label='label = 1')\n",
    "plt.scatter(x_10, x_20, c='y', label='label = 0')\n",
    "plt.title('Dados da classe 1 e classe 2')\n",
    "plt.xlabel('x_1')\n",
    "plt.ylabel('x_2')\n",
    "plt.legend()\n",
    "plt.show()\n"
   ]
  },
  {
   "cell_type": "markdown",
   "metadata": {},
   "source": [
    "## Item b)"
   ]
  },
  {
   "cell_type": "code",
   "execution_count": 358,
   "metadata": {},
   "outputs": [
    {
     "name": "stdout",
     "output_type": "stream",
     "text": [
      "Media da classe 1: [-0.00174703  1.03675024]\n",
      "Media da classe 2: [ 1.00541181 -0.14052539]\n"
     ]
    }
   ],
   "source": [
    "x_1 = y_1.loc[:, 'x_1':'x_2'].values\n",
    "x_0 = y_0.loc[:, 'x_1':'x_2'].values\n",
    "\n",
    "y1m = y_1.mean()\n",
    "mu1_np = np.array(y1m)\n",
    "mu1 = np.array(mu1_np[1:3])\n",
    "\n",
    "y0m = y_0.mean()\n",
    "mu0_np = np.array(y0m)\n",
    "mu0 = np.array(mu0_np[1:3])\n",
    "\n",
    "print ('Media da classe 1:', mu0)\n",
    "print ('Media da classe 2:', mu1)\n",
    "#print ((x_1[0:1]).shape)"
   ]
  },
  {
   "cell_type": "code",
   "execution_count": 359,
   "metadata": {},
   "outputs": [],
   "source": [
    "def matrix_cov_class(x, mu):\n",
    "    \n",
    "    S = np.zeros((2,2))\n",
    "    for i in range(len(x)-1):\n",
    "        #print (x[i:i+1])\n",
    "        #print (x_1[i], mu1)\n",
    "        X = x[i:i+1] - mu\n",
    "        #print (X)\n",
    "        \n",
    "        #print (X.shape)\n",
    "        #print ((X.T).shape)\n",
    "        s = np.dot(X.T, X)\n",
    "        #print (s)\n",
    "        S = S + s\n",
    "        #print (S)\n",
    "        #input()\n",
    "    return S"
   ]
  },
  {
   "cell_type": "code",
   "execution_count": 360,
   "metadata": {},
   "outputs": [
    {
     "name": "stdout",
     "output_type": "stream",
     "text": [
      "Matrix de covariância intra-classe: \n",
      " [[ 5.21455812e+02 -3.03126504e-01]\n",
      " [-3.03126504e-01  1.18819889e+02]]\n"
     ]
    }
   ],
   "source": [
    "Sw1 = matrix_cov_class(x_1, mu1)\n",
    "Sw0 = matrix_cov_class(x_0, mu0)\n",
    "\n",
    "#print (Sw1)\n",
    "#print (Sw0)\n",
    "Sw = Sw1 + Sw0\n",
    "print ('Matrix de covariância intra-classe:', '\\n', Sw)"
   ]
  },
  {
   "cell_type": "code",
   "execution_count": 361,
   "metadata": {},
   "outputs": [
    {
     "name": "stdout",
     "output_type": "stream",
     "text": [
      "Vetor de pesos (w):  [-0.00192568  0.00990316]\n"
     ]
    }
   ],
   "source": [
    "d_mu = mu0 - mu1\n",
    "\n",
    "w = np.dot(inv(Sw), d_mu) \n",
    "print ('Vetor de pesos (w): ', w)\n"
   ]
  },
  {
   "cell_type": "code",
   "execution_count": 362,
   "metadata": {},
   "outputs": [
    {
     "data": {
      "image/png": "[encoded data removed]",
      "text/plain": [
       "<Figure size 720x576 with 1 Axes>"
      ]
     },
     "metadata": {},
     "output_type": "display_data"
    }
   ],
   "source": [
    "#print (mu0.shape)\n",
    "t1 = range(-1, 3)\n",
    "\n",
    "plt.figure(figsize=(10, 8))\n",
    "plt.scatter(x_11, x_21, c='b', label='classe 2')\n",
    "plt.scatter(x_10, x_20, c='y', label='classe 1')\n",
    "#plt.scatter(w[0], w[1], c='k')\n",
    "plt.plot(t1, (w[1]*t1)/w[0], 'k', label='Direção da reta discrimante Fischer')\n",
    "#plt.scatter(mut[0], mut[1], c='k', marker='.')\n",
    "plt.plot(mu1[0], mu1[1], '*r', label='Media da classe 1')\n",
    "plt.plot(mu0[0], mu0[1], '*g', label='Media da classe 2')\n",
    "plt.ylim(-1,2)\n",
    "#plt.xlim(-2, 10)\n",
    "plt.title('Dados, média e direção da reta ótima do Discrimante de Fisher das classes 1 e 2')\n",
    "plt.xlabel('x_1')\n",
    "plt.ylabel('x_2')\n",
    "plt.legend()\n",
    "plt.show()\n"
   ]
  },
  {
   "cell_type": "code",
   "execution_count": 363,
   "metadata": {},
   "outputs": [
    {
     "data": {
      "image/png": "[encoded data removed]",
      "text/plain": [
       "<Figure size 432x288 with 1 Axes>"
      ]
     },
     "metadata": {},
     "output_type": "display_data"
    }
   ],
   "source": [
    "#classe 1\n",
    "w = np.reshape(w, (w.shape[0], 1))\n",
    "\n",
    "y1 = np.dot(x_1, w) #Maneira correta: y=w.T*x_1\n",
    "#classe 2\n",
    "y0 = np.dot(x_0, w)\n",
    "#y1 = np.dot(w.T, x_1)\n",
    "y_est_fischer = np.dot(x_i, w)\n",
    "\n",
    "h0, bins0, p = plt.hist(y0, bins=10, facecolor='yellow', alpha=0.6, label='classe 1')\n",
    "h1, bins1, p = plt.hist(y1, bins=10, facecolor='blue', alpha=0.6, label='classe 2')\n",
    "plt.title('Histogramas das classes 1 e 2')\n",
    "plt.legend()\n",
    "plt.show()\n",
    "\n",
    "#h, bins, p = plt.hist(y_est_fischer, bins=15, facecolor='green', alpha=0.6, label='label = 0')\n",
    "#plt.show()"
   ]
  },
  {
   "cell_type": "markdown",
   "metadata": {},
   "source": [
    "## Item c"
   ]
  },
  {
   "cell_type": "code",
   "execution_count": 364,
   "metadata": {},
   "outputs": [
    {
     "name": "stdout",
     "output_type": "stream",
     "text": [
      "Threshold Heuristica:  [0.00347136]\n"
     ]
    },
    {
     "data": {
      "image/png": "[encoded data removed]",
      "text/plain": [
       "<Figure size 432x288 with 1 Axes>"
      ]
     },
     "metadata": {},
     "output_type": "display_data"
    }
   ],
   "source": [
    "# Threshold Heuristica:\n",
    "u1 = np.dot(w.T, mu1)\n",
    "u0 = np.dot(w.T, mu0)\n",
    "w0_h = (u1+u0)/2\n",
    "\n",
    "#Threshold quadrados mínimos:\n",
    "mut = (mu0+mu1)/2\n",
    "\n",
    "w0_s = np.dot((-1*w).T, mut)\n",
    "\n",
    "print (\"Threshold Heuristica: \", w0_h)\n",
    "#print (\"Threshold quadrados mínimos: \", w0_s)\n",
    "\n",
    "h0, bins0, p = plt.hist(y0, bins=10, facecolor='yellow', alpha=0.6, label='label = 0')\n",
    "h1, bins1, p = plt.hist(y1, bins=10, facecolor='blue', alpha=0.6, label='label = 1')\n",
    "#plt.plot(w0_s)#, range(120), '--r', label='Thr Sqmin.')\n",
    "#plt.plot(w0_h)#, range(120), '-.k', label='Thr Heuris.')\n",
    "#plt.vlines(np.ones((1, 110))*w0_s, 0.001, 110, color='r', linestyles='dashed', label='Quad.min.' )\n",
    "plt.vlines(np.ones((1, 110))*w0_h, 0.001, 110, color='k', linestyles='dashed', label='Heurist.' )\n",
    "plt.title('Histograma das classes e threshold heurístico')\n",
    "plt.legend()\n",
    "plt.ylim(0,160)\n",
    "plt.show()\n",
    "\n"
   ]
  },
  {
   "cell_type": "code",
   "execution_count": 365,
   "metadata": {},
   "outputs": [],
   "source": [
    "def hipotese_class(y, thre):\n",
    "    hc = []\n",
    "    for i in range(len(y)):\n",
    "        if y[i] > thre:\n",
    "            hc.append(0)\n",
    "        else:\n",
    "            hc.append(1)\n",
    "    return hc\n",
    "\n",
    "#Todas as classes:\n",
    "y_est_fischer = np.dot(x_i, w)\n",
    "\n",
    "#print (y_est_fischer)\n",
    "y_est_heur = hipotese_class(y_est_fischer, w0_h)\n",
    "\n",
    "#print (y_est_fischer)\n",
    "\n"
   ]
  },
  {
   "cell_type": "code",
   "execution_count": 366,
   "metadata": {},
   "outputs": [],
   "source": [
    "def confusion_matrix(y_ver, y_est):\n",
    "    tp = 0\n",
    "    fn = 0\n",
    "    fp = 0\n",
    "    tn = 0\n",
    "    for i in range(len(y_est)):\n",
    "        if y_est[i] == 0 and y_ver[i] == 0:\n",
    "            tp = tp + 1\n",
    "        \n",
    "        elif y_est[i] == 0 and y_ver[i] == 1:\n",
    "            fp = fp + 1\n",
    "        \n",
    "        elif y_est[i] == 1 and y_ver[i] == 0:\n",
    "            fn = fn + 1\n",
    "        \n",
    "        elif y_est[i] == 1 and y_ver[i] == 1:\n",
    "            tn = tn + 1\n",
    "\n",
    "    R = float(tp/(tp + fn))\n",
    "    P = float(tp/(tp + fp))\n",
    "    Pe = float(fp/(tn+fp))\n",
    "    F1 = float(2*(float((R*P)/(R+P))))\n",
    "    cm = np.array([[tp, fn], [fp, tn]])\n",
    "        \n",
    "    return R, P, Pe, F1,cm"
   ]
  },
  {
   "cell_type": "code",
   "execution_count": 367,
   "metadata": {},
   "outputs": [
    {
     "name": "stdout",
     "output_type": "stream",
     "text": [
      "0.9510489510489509 0.05\n"
     ]
    }
   ],
   "source": [
    "Rfh, Pfh, Pefh, F1fh, cmfh = confusion_matrix(y_i, y_est_heur)\n",
    "\n",
    "print (F1fh, Pefh)"
   ]
  },
  {
   "cell_type": "code",
   "execution_count": 368,
   "metadata": {},
   "outputs": [
    {
     "name": "stdout",
     "output_type": "stream",
     "text": [
      "25\n",
      "[-1.00000000e-02 -9.00000000e-03 -8.00000000e-03 -7.00000000e-03\n",
      " -6.00000000e-03 -5.00000000e-03 -4.00000000e-03 -3.00000000e-03\n",
      " -2.00000000e-03 -1.00000000e-03 -8.67361738e-18  1.00000000e-03\n",
      "  2.00000000e-03  3.00000000e-03  4.00000000e-03  5.00000000e-03\n",
      "  6.00000000e-03  7.00000000e-03  8.00000000e-03  9.00000000e-03\n",
      "  1.00000000e-02  1.10000000e-02  1.20000000e-02  1.30000000e-02\n",
      "  1.40000000e-02]\n"
     ]
    }
   ],
   "source": [
    "thresholds = np.arange(-0.01, 0.015, 0.001)\n",
    "print (len(thresholds))\n",
    "print (thresholds)"
   ]
  },
  {
   "cell_type": "code",
   "execution_count": 369,
   "metadata": {},
   "outputs": [],
   "source": [
    "def Threshold_ROC(y, y_est, thresholds_list):\n",
    "    Rf = []\n",
    "    Pf = []\n",
    "    Pef = []\n",
    "    F1f = []\n",
    "    for i in thresholds_list:\n",
    "        hc = hipotese_class(y_est, i)\n",
    "        #print (y_est_f)\n",
    "        R, P, Pe, F1, cm = confusion_matrix(y, hc)\n",
    "        Rf.append(R)\n",
    "        Pf.append(P)\n",
    "        Pef.append(Pe)\n",
    "        F1f.append(F1)\n",
    "    return Rf, Pf, Pef, F1f"
   ]
  },
  {
   "cell_type": "code",
   "execution_count": 370,
   "metadata": {},
   "outputs": [
    {
     "name": "stdout",
     "output_type": "stream",
     "text": [
      "[0.996, 0.972, 0.936, 0.846, 0.728, 0.592, 0.502, 0.424, 0.342, 0.266, 0.194, 0.146, 0.114, 0.06, 0.032, 0.012, 0.008, 0.0, 0.0, 0.0, 0.0, 0.0, 0.0, 0.0, 0.0]\n"
     ]
    }
   ],
   "source": [
    "Rf, Pf, Pef, F1f = Threshold_ROC(y_i, y_est_fischer, thresholds)\n",
    "print (Pef)"
   ]
  },
  {
   "cell_type": "code",
   "execution_count": 371,
   "metadata": {},
   "outputs": [
    {
     "data": {
      "image/png": "[encoded data removed]",
      "text/plain": [
       "<Figure size 432x288 with 1 Axes>"
      ]
     },
     "metadata": {},
     "output_type": "display_data"
    },
    {
     "name": "stdout",
     "output_type": "stream",
     "text": [
      "Maior valor de F1-score:  0.9525691699604742\n",
      "Melhor valor do Threshold:  0.002999999999999989\n",
      "Diferença entre o Melhor Threshold e o Heurístico: [0.00047136]\n"
     ]
    },
    {
     "data": {
      "image/png": "[encoded data removed]",
      "text/plain": [
       "<Figure size 432x288 with 1 Axes>"
      ]
     },
     "metadata": {},
     "output_type": "display_data"
    }
   ],
   "source": [
    "plt.plot(F1f)\n",
    "plt.title('Curva F1-score')\n",
    "plt.ylabel('F1-score')\n",
    "#plt.xlabel('Thresholds')\n",
    "plt.show()\n",
    "\n",
    "arg_class = np.argmax(F1f)\n",
    "print (\"Maior valor de F1-score: \", F1f[arg_class])\n",
    "print (\"Melhor valor do Threshold: \", thresholds[arg_class])\n",
    "#print (\"Valor de Recall e Taxa de falso positivo para melhor classificador: \",\n",
    " #      Rf[arg_class], Pef[arg_class])\n",
    "print (\"Diferença entre o Melhor Threshold e o Heurístico:\", w0_h - thresholds[arg_class])\n",
    "\n",
    "plt.plot(Pef, Rf)\n",
    "plt.scatter(Pefh, Rfh, color='r', label='Threshold Heurístico')\n",
    "plt.scatter(Pef[arg_class], Rf[arg_class], color='g', label='Threshold Maior F1')\n",
    "#plt.ylim(0.8, 1)\n",
    "plt.title('Curva ROC')\n",
    "plt.ylabel('Recall')\n",
    "plt.xlabel('Taxa falso positivo (Pe)')\n",
    "plt.legend()\n",
    "plt.show()\n"
   ]
  },
  {
   "cell_type": "markdown",
   "metadata": {},
   "source": [
    "## Item d)"
   ]
  },
  {
   "cell_type": "code",
   "execution_count": 372,
   "metadata": {},
   "outputs": [],
   "source": [
    "def matrix_phi(x):\n",
    "    one_i = np.ones((x.shape[0], 1))\n",
    "    phi = np.concatenate((one_i, x), axis=1)\n",
    "    return phi\n",
    "\n",
    "def sigmoid(z):\n",
    "    return 1/(1 + np.exp(-z))\n",
    "\n",
    "def logistic_function(y, y_e):\n",
    "    #input()\n",
    "    RL = -np.mean(y*np.log(y_e) + (1-y)*np.log(1-y_e))\n",
    "    #print (RL)\n",
    "    return RL\n",
    "\n",
    "def Gradiente(x, y_ver, lr, num_ite):\n",
    "    #lr = 0.05 #learning_rate\n",
    "    phi = matrix_phi(x)\n",
    "    \n",
    "    n = phi.shape[1]\n",
    "    wl = np.zeros((n,1))\n",
    "    \n",
    "    loss = []\n",
    "    for epoch in range(num_ite):\n",
    "        #input()\n",
    "        Z = np.matmul(phi, wl)\n",
    "        A = sigmoid(Z)\n",
    "        #print ('A',A.shape)\n",
    "        Jce = logistic_function(y_ver, A)\n",
    "        #print ('y_i', y_i.shape)\n",
    "        #print (Jce)\n",
    "        loss.append(Jce)\n",
    "        e = A - y_ver\n",
    "        #print ('e', e.shape)\n",
    "        dw = (1/len(y_ver)) * np.matmul(phi.T, e)\n",
    "        #print ('dw', dw.shape)\n",
    "        #s_e = sum(e)\n",
    "        wl = wl - lr*dw #Obter o ultimo wl\n",
    "        #b = b - lr*s_e\n",
    "    return wl, loss\n"
   ]
  },
  {
   "cell_type": "code",
   "execution_count": 373,
   "metadata": {},
   "outputs": [],
   "source": [
    "one_i = np.ones((x_i.shape[0], 1))\n",
    "Fi = np.concatenate((one_i, x_i), axis=1)\n",
    "lr = 0.02\n",
    "num_ite = 3000\n",
    "\n",
    "w_log , custo = Gradiente(x_i, y_i, lr, num_ite)"
   ]
  },
  {
   "cell_type": "code",
   "execution_count": 374,
   "metadata": {},
   "outputs": [
    {
     "name": "stdout",
     "output_type": "stream",
     "text": [
      "Pesos da função logística: \n",
      " [[ 0.90815398]\n",
      " [ 1.17556953]\n",
      " [-3.72340073]]\n"
     ]
    },
    {
     "data": {
      "image/png": "[encoded data removed]",
      "text/plain": [
       "<Figure size 432x288 with 1 Axes>"
      ]
     },
     "metadata": {},
     "output_type": "display_data"
    }
   ],
   "source": [
    "print ('Pesos da função logística: \\n',  w_log)\n",
    "\n",
    "plt.plot(custo)\n",
    "plt.title(u'Função custo')\n",
    "plt.xlabel(u'Número de iterações')\n",
    "plt.ylabel('Custo')\n",
    "#plt.xlim(0,100)\n",
    "plt.show()\n",
    "    "
   ]
  },
  {
   "cell_type": "code",
   "execution_count": 375,
   "metadata": {},
   "outputs": [
    {
     "name": "stdout",
     "output_type": "stream",
     "text": [
      "[0.00249365] [0.99660964]\n"
     ]
    }
   ],
   "source": [
    "Z_i = np.dot(Fi, w_log)\n",
    "#Z_i = np.dot(x_i, wl)+b\n",
    "\n",
    "y_est_l = sigmoid(Z_i)\n",
    "\n",
    "print (min(y_est_l), max(y_est_l))"
   ]
  },
  {
   "cell_type": "code",
   "execution_count": 376,
   "metadata": {},
   "outputs": [
    {
     "name": "stdout",
     "output_type": "stream",
     "text": [
      "0.937007874015748 0.08\n"
     ]
    }
   ],
   "source": [
    "def hipotese_class_log(y, thre):\n",
    "    hc = []\n",
    "    for i in range(len(y)):\n",
    "        if y[i] > thre:\n",
    "            hc.append(1)\n",
    "        else:\n",
    "            hc.append(0)\n",
    "    return hc\n",
    "\n",
    "hci = hipotese_class_log(y_est_l, 0.5)\n",
    "#print (len(hc))\n",
    "\n",
    "#Rl, Pl, Pel, F1l = Threshold_ROC_log(y_i, y_est_l, 0.5)\n",
    "\n",
    "Ri, Pi, Pei, F1i, cmi = confusion_matrix(y_i, hci)\n",
    "\n",
    "print (F1i, Pei)"
   ]
  },
  {
   "cell_type": "code",
   "execution_count": 377,
   "metadata": {},
   "outputs": [],
   "source": [
    "def Threshold_ROC_log(y, y_est, thresholds_list):\n",
    "    Rf = []\n",
    "    Pf = []\n",
    "    Pef = []\n",
    "    F1f = []\n",
    "    for i in thresholds_list:\n",
    "        hc = hipotese_class_log(y_est, i)\n",
    "        #print (hc)\n",
    "        R, P, Pe, F1, cm = confusion_matrix(y, hc)\n",
    "        #input()\n",
    "        #print (cm)\n",
    "        Rf.append(R)\n",
    "        Pf.append(P)\n",
    "        Pef.append(Pe)\n",
    "        F1f.append(F1)\n",
    "    return Rf, Pf, Pef, F1f"
   ]
  },
  {
   "cell_type": "code",
   "execution_count": 378,
   "metadata": {},
   "outputs": [
    {
     "name": "stdout",
     "output_type": "stream",
     "text": [
      "98\n",
      "[0.02 0.03 0.04 0.05 0.06 0.07 0.08 0.09 0.1  0.11 0.12 0.13 0.14 0.15\n",
      " 0.16 0.17 0.18 0.19 0.2  0.21 0.22 0.23 0.24 0.25 0.26 0.27 0.28 0.29\n",
      " 0.3  0.31 0.32 0.33 0.34 0.35 0.36 0.37 0.38 0.39 0.4  0.41 0.42 0.43\n",
      " 0.44 0.45 0.46 0.47 0.48 0.49 0.5  0.51 0.52 0.53 0.54 0.55 0.56 0.57\n",
      " 0.58 0.59 0.6  0.61 0.62 0.63 0.64 0.65 0.66 0.67 0.68 0.69 0.7  0.71\n",
      " 0.72 0.73 0.74 0.75 0.76 0.77 0.78 0.79 0.8  0.81 0.82 0.83 0.84 0.85\n",
      " 0.86 0.87 0.88 0.89 0.9  0.91 0.92 0.93 0.94 0.95 0.96 0.97 0.98 0.99]\n"
     ]
    }
   ],
   "source": [
    "thresholds_l = np.arange(0.02, 1, 0.01)\n",
    "print (len(thresholds_l))\n",
    "print (thresholds_l)"
   ]
  },
  {
   "cell_type": "code",
   "execution_count": 379,
   "metadata": {},
   "outputs": [
    {
     "name": "stdout",
     "output_type": "stream",
     "text": [
      "[0.0, 0.0, 0.0, 0.0, 0.0, 0.0, 0.0, 0.0, 0.0, 0.0, 0.0, 0.0, 0.0, 0.0, 0.0, 0.0, 0.004, 0.004, 0.004, 0.004, 0.01, 0.01, 0.01, 0.012, 0.012, 0.012, 0.012, 0.018, 0.02, 0.02, 0.022, 0.024, 0.026, 0.028, 0.034, 0.036, 0.04, 0.046, 0.048, 0.05, 0.05, 0.054, 0.056, 0.056, 0.056, 0.064, 0.068, 0.076, 0.08, 0.086, 0.09, 0.092, 0.096, 0.102, 0.106, 0.112, 0.116, 0.122, 0.124, 0.124, 0.128, 0.128, 0.128, 0.136, 0.136, 0.14, 0.14, 0.148, 0.15, 0.152, 0.156, 0.162, 0.164, 0.174, 0.174, 0.186, 0.19, 0.198, 0.208, 0.22, 0.234, 0.244, 0.252, 0.264, 0.28, 0.294, 0.316, 0.338, 0.354, 0.372, 0.39, 0.42, 0.468, 0.514, 0.564, 0.644, 0.77, 0.942]\n"
     ]
    }
   ],
   "source": [
    "Rl, Pl, Pel, F1l = Threshold_ROC_log(y_i, y_est_l, thresholds_l)\n",
    "print (Pel)\n",
    "#print (Rl)"
   ]
  },
  {
   "cell_type": "code",
   "execution_count": 380,
   "metadata": {},
   "outputs": [
    {
     "data": {
      "image/png": "[encoded data removed]",
      "text/plain": [
       "<Figure size 432x288 with 1 Axes>"
      ]
     },
     "metadata": {},
     "output_type": "display_data"
    },
    {
     "name": "stdout",
     "output_type": "stream",
     "text": [
      "Maior valor de F1-score:  0.9418837675350701\n",
      "Melhor valor do Threshold:  0.45999999999999996\n"
     ]
    },
    {
     "data": {
      "image/png": "[encoded data removed]",
      "text/plain": [
       "<Figure size 432x288 with 1 Axes>"
      ]
     },
     "metadata": {},
     "output_type": "display_data"
    }
   ],
   "source": [
    "arg_l = np.argmax(F1l)\n",
    "\n",
    "plt.plot(F1l)\n",
    "plt.scatter(arg_l, F1l[arg_l], color='g', label='Maior valor F1')\n",
    "plt.title('Curva F1-score')\n",
    "plt.ylabel('F1-score')\n",
    "#plt.xlabel('Thresholds')\n",
    "plt.legend()\n",
    "plt.show()\n",
    "\n",
    "print (\"Maior valor de F1-score: \", F1l[arg_l])\n",
    "print (\"Melhor valor do Threshold: \", thresholds_l[arg_l])\n",
    "\n",
    "plt.plot(Pel, Rl)\n",
    "#plt.scatter(Pefh, Rfh, color='r', label='Threshold Heurístico')\n",
    "plt.scatter(Pel[arg_l], Rl[arg_l], color='g', label='Threshold Maior F1')\n",
    "#plt.ylim(0.8, 1)\n",
    "plt.title('Curva ROC')\n",
    "plt.ylabel('Recall')\n",
    "plt.xlabel('Taxa falso positivo (Pe)')\n",
    "plt.legend()\n",
    "plt.show()"
   ]
  },
  {
   "cell_type": "code",
   "execution_count": 614,
   "metadata": {},
   "outputs": [
    {
     "data": {
      "image/png": "[encoded data removed]",
      "text/plain": [
       "<Figure size 720x576 with 1 Axes>"
      ]
     },
     "metadata": {},
     "output_type": "display_data"
    }
   ],
   "source": [
    "t1 = range(-1, 3)\n",
    "\n",
    "plt.figure(figsize=(10, 8))\n",
    "plt.scatter(x_11, x_21, c='b', label='classe 2')\n",
    "plt.scatter(x_10, x_20, c='y', label='classe 1')\n",
    "#plt.scatter(w[0], w[1], c='k')\n",
    "plt.plot(t1, (w[1]*t1)/w[0], 'k', label='Direção da reta discrimante Fischer')\n",
    "plt.plot(t1, (-(w_log[1]*t1)/w_log[0]), 'r', label='Direção da reta regressão logística')\n",
    "#plt.scatter(mut[0], mut[1], c='k', marker='.')\n",
    "#plt.plot(mu1[0], mu1[1], '*r', label='Media da classe 1')\n",
    "#plt.plot(mu0[0], mu0[1], '*g', label='Media da classe 2')\n",
    "plt.ylim(-1,2)\n",
    "#plt.xlim(-2, 10)\n",
    "plt.title('Dados, média e direção da reta ótima do Discrimante de Fisher das classes 1 e 2')\n",
    "plt.xlabel('x_1')\n",
    "plt.ylabel('x_2')\n",
    "plt.legend()\n",
    "plt.show()"
   ]
  },
  {
   "cell_type": "markdown",
   "metadata": {},
   "source": [
    "# Parte 3 - Classificação Multi-classe"
   ]
  },
  {
   "cell_type": "markdown",
   "metadata": {},
   "source": [
    "## Item a)"
   ]
  },
  {
   "cell_type": "code",
   "execution_count": 489,
   "metadata": {},
   "outputs": [
    {
     "data": {
      "text/html": [
       "<div>\n",
       "<style scoped>\n",
       "    .dataframe tbody tr th:only-of-type {\n",
       "        vertical-align: middle;\n",
       "    }\n",
       "\n",
       "    .dataframe tbody tr th {\n",
       "        vertical-align: top;\n",
       "    }\n",
       "\n",
       "    .dataframe thead th {\n",
       "        text-align: right;\n",
       "    }\n",
       "</style>\n",
       "<table border=\"1\" class=\"dataframe\">\n",
       "  <thead>\n",
       "    <tr style=\"text-align: right;\">\n",
       "      <th></th>\n",
       "      <th>COMPACTNESS</th>\n",
       "      <th>CIRCULARITY</th>\n",
       "      <th>DISTANCE_CIRCULARITY</th>\n",
       "      <th>RADIUS_RATIO</th>\n",
       "      <th>PR.AXIS_ASPECT_RATIO</th>\n",
       "      <th>MAX.LENGTH_ASPECT_RATIO</th>\n",
       "      <th>SCATTER_RATIO</th>\n",
       "      <th>ELONGATEDNESS</th>\n",
       "      <th>PR.AXIS_RECTANGULARITY</th>\n",
       "      <th>MAX.LENGTH_RECTANGULARITY</th>\n",
       "      <th>SCALED_VARIANCE_MAJOR</th>\n",
       "      <th>SCALED_VARIANCE_MINOR</th>\n",
       "      <th>SCALED_RADIUS_OF_GYRATION</th>\n",
       "      <th>SKEWNESS_ABOUT_MAJOR</th>\n",
       "      <th>SKEWNESS_ABOUT_MINOR</th>\n",
       "      <th>KURTOSIS_ABOUT_MAJOR</th>\n",
       "      <th>KURTOSIS_ABOUT_MINOR</th>\n",
       "      <th>HOLLOWS_RATIO</th>\n",
       "      <th>Class</th>\n",
       "    </tr>\n",
       "  </thead>\n",
       "  <tbody>\n",
       "    <tr>\n",
       "      <th>0</th>\n",
       "      <td>95</td>\n",
       "      <td>48</td>\n",
       "      <td>83</td>\n",
       "      <td>178</td>\n",
       "      <td>72</td>\n",
       "      <td>10</td>\n",
       "      <td>162</td>\n",
       "      <td>42</td>\n",
       "      <td>20</td>\n",
       "      <td>159</td>\n",
       "      <td>176</td>\n",
       "      <td>379</td>\n",
       "      <td>184</td>\n",
       "      <td>70</td>\n",
       "      <td>6</td>\n",
       "      <td>16</td>\n",
       "      <td>187</td>\n",
       "      <td>197</td>\n",
       "      <td>van</td>\n",
       "    </tr>\n",
       "    <tr>\n",
       "      <th>1</th>\n",
       "      <td>91</td>\n",
       "      <td>41</td>\n",
       "      <td>84</td>\n",
       "      <td>141</td>\n",
       "      <td>57</td>\n",
       "      <td>9</td>\n",
       "      <td>149</td>\n",
       "      <td>45</td>\n",
       "      <td>19</td>\n",
       "      <td>143</td>\n",
       "      <td>170</td>\n",
       "      <td>330</td>\n",
       "      <td>158</td>\n",
       "      <td>72</td>\n",
       "      <td>9</td>\n",
       "      <td>14</td>\n",
       "      <td>189</td>\n",
       "      <td>199</td>\n",
       "      <td>van</td>\n",
       "    </tr>\n",
       "    <tr>\n",
       "      <th>2</th>\n",
       "      <td>104</td>\n",
       "      <td>50</td>\n",
       "      <td>106</td>\n",
       "      <td>209</td>\n",
       "      <td>66</td>\n",
       "      <td>10</td>\n",
       "      <td>207</td>\n",
       "      <td>32</td>\n",
       "      <td>23</td>\n",
       "      <td>158</td>\n",
       "      <td>223</td>\n",
       "      <td>635</td>\n",
       "      <td>220</td>\n",
       "      <td>73</td>\n",
       "      <td>14</td>\n",
       "      <td>9</td>\n",
       "      <td>188</td>\n",
       "      <td>196</td>\n",
       "      <td>saab</td>\n",
       "    </tr>\n",
       "    <tr>\n",
       "      <th>3</th>\n",
       "      <td>93</td>\n",
       "      <td>41</td>\n",
       "      <td>82</td>\n",
       "      <td>159</td>\n",
       "      <td>63</td>\n",
       "      <td>9</td>\n",
       "      <td>144</td>\n",
       "      <td>46</td>\n",
       "      <td>19</td>\n",
       "      <td>143</td>\n",
       "      <td>160</td>\n",
       "      <td>309</td>\n",
       "      <td>127</td>\n",
       "      <td>63</td>\n",
       "      <td>6</td>\n",
       "      <td>10</td>\n",
       "      <td>199</td>\n",
       "      <td>207</td>\n",
       "      <td>van</td>\n",
       "    </tr>\n",
       "    <tr>\n",
       "      <th>4</th>\n",
       "      <td>85</td>\n",
       "      <td>44</td>\n",
       "      <td>70</td>\n",
       "      <td>205</td>\n",
       "      <td>103</td>\n",
       "      <td>52</td>\n",
       "      <td>149</td>\n",
       "      <td>45</td>\n",
       "      <td>19</td>\n",
       "      <td>144</td>\n",
       "      <td>241</td>\n",
       "      <td>325</td>\n",
       "      <td>188</td>\n",
       "      <td>127</td>\n",
       "      <td>9</td>\n",
       "      <td>11</td>\n",
       "      <td>180</td>\n",
       "      <td>183</td>\n",
       "      <td>bus</td>\n",
       "    </tr>\n",
       "  </tbody>\n",
       "</table>\n",
       "</div>"
      ],
      "text/plain": [
       "   COMPACTNESS  CIRCULARITY  DISTANCE_CIRCULARITY  RADIUS_RATIO  \\\n",
       "0           95           48                    83           178   \n",
       "1           91           41                    84           141   \n",
       "2          104           50                   106           209   \n",
       "3           93           41                    82           159   \n",
       "4           85           44                    70           205   \n",
       "\n",
       "   PR.AXIS_ASPECT_RATIO  MAX.LENGTH_ASPECT_RATIO  SCATTER_RATIO  \\\n",
       "0                    72                       10            162   \n",
       "1                    57                        9            149   \n",
       "2                    66                       10            207   \n",
       "3                    63                        9            144   \n",
       "4                   103                       52            149   \n",
       "\n",
       "   ELONGATEDNESS  PR.AXIS_RECTANGULARITY  MAX.LENGTH_RECTANGULARITY  \\\n",
       "0             42                      20                        159   \n",
       "1             45                      19                        143   \n",
       "2             32                      23                        158   \n",
       "3             46                      19                        143   \n",
       "4             45                      19                        144   \n",
       "\n",
       "   SCALED_VARIANCE_MAJOR  SCALED_VARIANCE_MINOR  SCALED_RADIUS_OF_GYRATION  \\\n",
       "0                    176                    379                        184   \n",
       "1                    170                    330                        158   \n",
       "2                    223                    635                        220   \n",
       "3                    160                    309                        127   \n",
       "4                    241                    325                        188   \n",
       "\n",
       "   SKEWNESS_ABOUT_MAJOR  SKEWNESS_ABOUT_MINOR  KURTOSIS_ABOUT_MAJOR  \\\n",
       "0                    70                     6                    16   \n",
       "1                    72                     9                    14   \n",
       "2                    73                    14                     9   \n",
       "3                    63                     6                    10   \n",
       "4                   127                     9                    11   \n",
       "\n",
       "   KURTOSIS_ABOUT_MINOR  HOLLOWS_RATIO Class  \n",
       "0                   187            197   van  \n",
       "1                   189            199   van  \n",
       "2                   188            196  saab  \n",
       "3                   199            207   van  \n",
       "4                   180            183   bus  "
      ]
     },
     "execution_count": 489,
     "metadata": {},
     "output_type": "execute_result"
    }
   ],
   "source": [
    "auto = pd.read_csv('dataset_vehicle.csv')\n",
    "auto.head()"
   ]
  },
  {
   "cell_type": "code",
   "execution_count": 383,
   "metadata": {},
   "outputs": [],
   "source": [
    "def one_hot_encoding(labels):\n",
    "    #l = np.zeros((len(labels)))\n",
    "    l = []\n",
    "    for i in range(len(labels)):\n",
    "        if labels[i] == 'bus':\n",
    "            #l[i] = [0, 0]\n",
    "            l.append([0, 0])\n",
    "        elif labels[i] == 'van':\n",
    "            #l[i] = [0, 1]\n",
    "            l.append([0, 1])\n",
    "        elif labels[i] == 'opel':\n",
    "            #l[i] = [1, 0]\n",
    "            l.append([1, 0])\n",
    "        elif labels[i] == 'saab':\n",
    "            #l[i] = [1, 1]\n",
    "            l.append([1, 1])\n",
    "    return l\n",
    "\n",
    "#y_enc = one_hot_encoding(y)\n",
    "\n",
    "#np.array(y_enc)\n"
   ]
  },
  {
   "cell_type": "code",
   "execution_count": 384,
   "metadata": {},
   "outputs": [],
   "source": [
    "#normalização dos dados:\n",
    "\n",
    "def normalize(xi):\n",
    "    mu = np.mean(xi) #media 0 e variancia 1\n",
    "    sig = np.std(xi)\n",
    "    #mu = np.zeros((1, xi.shape[1]))\n",
    "    #sig = np.ones((1, xi.shape[1]))\n",
    "    x_norm = np.zeros((xi.shape[0], xi.shape[1]))\n",
    "    for i in range(len(xi)):\n",
    "        x_norm[i] = (mu - x[i])/sig\n",
    "    return x_norm\n",
    "\n",
    "#x_n = normalize(x)\n"
   ]
  },
  {
   "cell_type": "code",
   "execution_count": 385,
   "metadata": {},
   "outputs": [
    {
     "name": "stdout",
     "output_type": "stream",
     "text": [
      "bus: (218, 19) van: (199, 19) opel (212, 19) saab: (217, 19)\n",
      "bus: 218 van: 199 opel 212 saab: 217\n"
     ]
    }
   ],
   "source": [
    "x = auto.loc[:, 'COMPACTNESS':'HOLLOWS_RATIO'].values\n",
    "y = auto.loc[:, 'Class'].values\n",
    "\n",
    "bus = auto.loc[auto['Class']=='bus'] #(218, 19)\n",
    "x_bus = normalize(bus.loc[:, 'COMPACTNESS':'HOLLOWS_RATIO'].values)\n",
    "y_bus = bus.loc[:, 'Class'].values\n",
    "y_b = one_hot_encoding(y_bus)\n",
    "\n",
    "van = auto.loc[auto['Class']=='van']\n",
    "x_van = normalize(van.loc[:, 'COMPACTNESS':'HOLLOWS_RATIO'].values)\n",
    "y_van = van.loc[:, 'Class'].values\n",
    "y_v = one_hot_encoding(y_van)\n",
    "\n",
    "opel = auto.loc[auto['Class']=='opel']\n",
    "x_opel = normalize(opel.loc[:, 'COMPACTNESS':'HOLLOWS_RATIO'].values)\n",
    "y_opel = opel.loc[:, 'Class'].values\n",
    "y_o = one_hot_encoding(y_opel)\n",
    "\n",
    "saab = auto.loc[auto['Class']=='saab']\n",
    "x_saab = normalize(saab.loc[:, 'COMPACTNESS':'HOLLOWS_RATIO'].values)\n",
    "y_saab = saab.loc[:, 'Class'].values\n",
    "y_s = one_hot_encoding(y_saab)\n",
    "\n",
    "print ('bus:', bus.shape, 'van:', van.shape, 'opel', opel.shape, 'saab:', saab.shape)\n",
    "print ('bus:', len(y_bus), 'van:', len(y_van), 'opel', len(y_opel), 'saab:', len(y_saab))"
   ]
  },
  {
   "cell_type": "code",
   "execution_count": 386,
   "metadata": {},
   "outputs": [],
   "source": [
    "def Train_test(X, Y, t): #t = porcentagem de separação dos dados.\n",
    "    N = len(Y)\n",
    "    g = int(round(N*t, -1))\n",
    "\n",
    "    perm = np.random.permutation(N)\n",
    "\n",
    "    x_train, x_test = X[perm][g:], X[perm][:g]\n",
    "    y_train, y_test = Y[perm][g:], Y[perm][:g]\n",
    "\n",
    "    return (x_train, x_test, y_train, y_test)\n",
    "#print (x.shape)\n",
    "#print (x_train.shape, x_test.shape)\n",
    "#print (y_train.shape, y_test.shape)"
   ]
  },
  {
   "cell_type": "code",
   "execution_count": 387,
   "metadata": {},
   "outputs": [],
   "source": [
    "# Nesse caso foi utilizado 80% treino e 20% teste\n",
    "x_train_bus, x_test_bus, y_train_bus, y_test_bus = Train_test(x_bus, y_bus, 0.2)\n",
    "x_train_van, x_test_van, y_train_van, y_test_van = Train_test(x_van, y_van, 0.2)\n",
    "x_train_opel, x_test_opel, y_train_opel, y_test_opel = Train_test(x_opel, y_opel, 0.2)\n",
    "x_train_saab, x_test_saab, y_train_saab, y_test_saab = Train_test(x_saab, y_saab, 0.2)\n",
    "\n",
    "#print (x_train_van.shape, x_test_van.shape, y_train_van.shape, y_test_van.shape)\n",
    "\n",
    "def One_encoding(label):\n",
    "    y_t = []\n",
    "    #print ('label[0]:', label[0])\n",
    "    #y_b = np.zeros((len(y2)))\n",
    "    for i in range(len(label)):\n",
    "        if label[0] == label[i]:\n",
    "            y_t.append(1)\n",
    "        else:\n",
    "            y_t.append(0)\n",
    "    return np.array(y_t)\n",
    "\n",
    "def binary_classify(Xtr_a, Xte_a, Ytr_a, Yte_a, Xtr_b, Xte_b, Ytr_b, Yte_b):\n",
    "    x_train_ab = np.vstack([Xtr_a, Xtr_b])\n",
    "    x_test_ab = np.vstack([Xte_a, Xte_b])\n",
    "    y_train_a_b = np.concatenate([Ytr_a, Ytr_b])\n",
    "    y_test_a_b = np.concatenate([Yte_a, Yte_b])\n",
    "\n",
    "    y_train_ab = One_encoding(y_train_a_b)\n",
    "    y_train_ab = np.reshape(y_train_ab, (-1,1))\n",
    "\n",
    "    y_test_ab = One_encoding(y_test_a_b)\n",
    "    y_test_ab = np.reshape(y_test_ab, (-1,1))\n",
    "    return x_train_ab, x_test_ab, y_train_ab, y_test_ab\n"
   ]
  },
  {
   "cell_type": "code",
   "execution_count": 388,
   "metadata": {},
   "outputs": [],
   "source": [
    "#Classificador 1 - bus e van\n",
    "x_train_bv, x_test_bv, y_train_bv, y_test_bv = binary_classify(x_train_bus, x_test_bus, y_train_bus, \n",
    "                                                               y_test_bus, x_train_van, x_test_van, \n",
    "                                                               y_train_van, y_test_van)\n",
    "#Classificador 2 - bus  e saab\n",
    "x_train_bs, x_test_bs, y_train_bs, y_test_bs = binary_classify(x_train_bus, x_test_bus, y_train_bus, \n",
    "                                                               y_test_bus, x_train_saab, x_test_saab, \n",
    "                                                               y_train_saab, y_test_saab)\n",
    "#Classificador 3 - bus e opel\n",
    "x_train_bo, x_test_bo, y_train_bo, y_test_bo = binary_classify(x_train_bus, x_test_bus, y_train_bus, \n",
    "                                                               y_test_bus,x_train_opel, x_test_opel,\n",
    "                                                               y_train_opel, y_test_opel)\n",
    "#Classificador 4 - van e opel\n",
    "x_train_vo, x_test_vo, y_train_vo, y_test_vo = binary_classify(x_train_van, x_test_van, y_train_van,\n",
    "                                                               y_test_van, x_train_opel, x_test_opel,\n",
    "                                                               y_train_opel, y_test_opel)\n",
    "#Classificador 5 - van e saab\n",
    "x_train_vs, x_test_vs, y_train_vs, y_test_vs = binary_classify(x_train_van, x_test_van, y_train_van,\n",
    "                                                               y_test_van,x_train_saab, x_test_saab, \n",
    "                                                               y_train_saab, y_test_saab)\n",
    "#Classificador 6 - saab e opel\n",
    "x_train_so, x_test_so, y_train_so, y_test_so = binary_classify(x_train_saab, x_test_saab, y_train_saab,\n",
    "                                                               y_test_saab, x_train_opel, x_test_opel,\n",
    "                                                               y_train_opel, y_test_opel)"
   ]
  },
  {
   "cell_type": "code",
   "execution_count": 389,
   "metadata": {},
   "outputs": [
    {
     "data": {
      "image/png": "[encoded data removed]",
      "text/plain": [
       "<Figure size 864x576 with 6 Axes>"
      ]
     },
     "metadata": {},
     "output_type": "display_data"
    }
   ],
   "source": [
    "w_bv , loss_bv = Gradiente(x_train_bv, y_train_bv, 0.2, 3000)\n",
    "w_bs , loss_bs = Gradiente(x_train_bs, y_train_bs, 0.6, 50000)\n",
    "w_bo , loss_bo = Gradiente(x_train_bo, y_train_bo, 0.6, 30000)\n",
    "w_vo , loss_vo = Gradiente(x_train_vo, y_train_vo, 0.2, 3000)\n",
    "w_vs , loss_vs = Gradiente(x_train_vs, y_train_vs, 0.2, 3000)\n",
    "w_so , loss_so = Gradiente(x_train_so, y_train_so, 0.99, 100000)\n",
    "\n",
    "#print (w_bv.shape)\n",
    "#print (w_bv)\n",
    "#print ('Pesos da função logística: \\n',  w_log)\n",
    "\n",
    "fig, ax = plt.subplots(2,3, figsize=(12,8))\n",
    "ax[0][0].plot(loss_bv)\n",
    "ax[0][0].set_title(u'Função custo bus-van')\n",
    "ax[0][1].plot(loss_bs)\n",
    "ax[0][1].set_title(u'Função custo bus-saab')\n",
    "ax[0][2].plot(loss_bo)\n",
    "ax[0][2].set_title(u'Função custo bus-opel')\n",
    "ax[1][0].plot(loss_vo)\n",
    "ax[1][0].set_title(u'Função custo van-opel')\n",
    "ax[1][1].plot(loss_vs)\n",
    "ax[1][1].set_title(u'Função custo van-saab')\n",
    "ax[1][2].plot(loss_so)\n",
    "ax[1][2].set_title(u'Função custo saab-opel')\n",
    "#plt.xlabel(u'Número de iterações')\n",
    "#plt.ylabel('Custo')\n",
    "#plt.ylim(0,1)\n",
    "plt.show()\n",
    "    "
   ]
  },
  {
   "cell_type": "code",
   "execution_count": 390,
   "metadata": {},
   "outputs": [],
   "source": [
    "def one_hot_encoding_hipotese(labels, label1, label2):\n",
    "    #l = np.zeros((len(labels)))\n",
    "    l = []\n",
    "    for i in range(len(labels)):\n",
    "        if labels[i] > 0.5:\n",
    "            l.append(label1)\n",
    "        else:\n",
    "            l.append(label2)\n",
    "    return l"
   ]
  },
  {
   "cell_type": "code",
   "execution_count": 391,
   "metadata": {},
   "outputs": [],
   "source": [
    "def one_vs_one(X_test, W, label1, label2):\n",
    "    #Y_test_encoding = one_hot_encoding(Y_test)\n",
    "    y_est_ab = estimativas(X_test, W)\n",
    "    y_pred = one_hot_encoding_hipotese(y_est_ab, label1, label2)\n",
    "    return y_pred"
   ]
  },
  {
   "cell_type": "code",
   "execution_count": 392,
   "metadata": {},
   "outputs": [],
   "source": [
    "def estimativas(X_test, W):\n",
    "    phi_test = matrix_phi(X_test)\n",
    "\n",
    "    Z = np.dot(phi_test, W)\n",
    "        \n",
    "    Y_est = sigmoid(Z)\n",
    "    return Y_est\n",
    "\n",
    "x_test_total = np.vstack([np.vstack([np.vstack([x_test_bus, x_test_van]), x_test_opel]), x_test_saab])\n",
    "y_test_total = np.concatenate((np.concatenate((np.concatenate((y_test_bus, y_test_van)), y_test_opel)), y_test_saab))"
   ]
  },
  {
   "cell_type": "code",
   "execution_count": 393,
   "metadata": {},
   "outputs": [
    {
     "name": "stdout",
     "output_type": "stream",
     "text": [
      "160\n"
     ]
    }
   ],
   "source": [
    "y_test_true = one_hot_encoding(y_test_total)\n",
    "print (len(y_test_true))\n",
    "#print (y_test_true)\n",
    "\n",
    "y_est_bv = one_vs_one(x_test_total, w_bv, [0,0], [0,1])\n",
    "y_est_bs = one_vs_one(x_test_total, w_bs, [0,0], [1,1])\n",
    "y_est_bo = one_vs_one(x_test_total, w_bo, [0,0], [1,0])\n",
    "y_est_vo = one_vs_one(x_test_total, w_vo, [0,1], [1,0])\n",
    "y_est_vs = one_vs_one(x_test_total, w_vs, [0,1], [1,1])\n",
    "y_est_so = one_vs_one(x_test_total, w_so, [1,1], [1,0])\n",
    "\n",
    "#print (y_est_bv)"
   ]
  },
  {
   "cell_type": "code",
   "execution_count": 394,
   "metadata": {},
   "outputs": [],
   "source": [
    "def cm_multiclass(y_true, y_pred):\n",
    "    c = np.zeros((4,4))\n",
    "    for i in range(len(y_true)):\n",
    "        #for j in y_pred:\n",
    "        #input()\n",
    "        #print (y_true[i])\n",
    "        if y_true[i] == [0,0]:\n",
    "            if y_pred[i] == [0,0]:\n",
    "                c[0][0] = c[0][0]+1\n",
    "            elif y_pred[i] == [0,1]:\n",
    "                c[0][1] = c[0][1]+1\n",
    "            elif y_pred[i] == [1,0]:\n",
    "                c[0][2] = c[0][2]+1\n",
    "            elif y_pred[i] == [1,1]:\n",
    "                c[0][3] = c[0][3]+1\n",
    "        elif y_true[i] ==[0,1]:\n",
    "            if y_pred[i] == [0,0]:\n",
    "                c[1][0] = c[1][0]+1\n",
    "            elif y_pred[i] == [0,1]:\n",
    "                c[1][1] = c[1][1]+1\n",
    "            elif y_pred[i] == [1,0]:\n",
    "                c[1][2] = c[1][2]+1\n",
    "            elif y_pred[i] == [1,1]:\n",
    "                c[1][3] = c[1][3]+1           \n",
    "        elif y_true[i] ==[1,0]:\n",
    "            if y_pred[i] == [0,0]:\n",
    "                c[2][0] = c[2][0]+1\n",
    "            elif y_pred[i] == [0,1]:\n",
    "                c[2][1] = c[2][1]+1\n",
    "            elif y_pred[i] == [1,0]:\n",
    "                c[2][2] = c[2][2]+1\n",
    "            elif y_pred[i] == [1,1]:\n",
    "                c[2][3] = c[2][3]+1\n",
    "        elif y_true[i] ==[1,1]:\n",
    "            if y_pred[i] == [0,0]:\n",
    "                c[3][0] = c[2][0]+1\n",
    "            elif y_pred[i] == [0,1]:\n",
    "                c[3][1] = c[2][1]+1\n",
    "            elif y_pred[i] == [1,0]:\n",
    "                c[3][2] = c[2][2]+1\n",
    "            elif y_pred[i] == [1,1]:\n",
    "                c[3][3] = c[3][3]+1\n",
    "    return c"
   ]
  },
  {
   "cell_type": "code",
   "execution_count": 395,
   "metadata": {},
   "outputs": [
    {
     "data": {
      "text/plain": [
       "array([[20,  0,  6, 13],\n",
       "       [13, 20,  0,  6],\n",
       "       [ 6,  0, 19, 13],\n",
       "       [ 7,  0, 20, 19]])"
      ]
     },
     "execution_count": 395,
     "metadata": {},
     "output_type": "execute_result"
    }
   ],
   "source": [
    "cm_bv = cm_multiclass(y_test_true, y_est_bv)\n",
    "cm_bs = cm_multiclass(y_test_true, y_est_bs)\n",
    "cm_bo = cm_multiclass(y_test_true, y_est_bo)\n",
    "cm_vo = cm_multiclass(y_test_true, y_est_vo)\n",
    "cm_vs = cm_multiclass(y_test_true, y_est_vs)\n",
    "cm_so = cm_multiclass(y_test_true, y_est_so)\n",
    "\n",
    "cm_mean = (cm_bv + cm_bs + cm_bo + cm_vo + cm_vs + cm_so)/6\n",
    "#cm_mean = cm_mean.round(2)\n",
    "cm_mean = cm_mean.astype('int')\n",
    "cm_mean"
   ]
  },
  {
   "cell_type": "code",
   "execution_count": 396,
   "metadata": {},
   "outputs": [],
   "source": [
    "import itertools\n",
    "def plot_confusion_matrix(cm, classes,\n",
    "                          normalize=False,\n",
    "                          title='Confusion matrix',\n",
    "                          cmap=plt.cm.Blues):\n",
    "    \"\"\"\n",
    "    This function prints and plots the confusion matrix.\n",
    "    Normalization can be applied by setting `normalize=True`.\n",
    "    \"\"\"\n",
    "    if normalize:\n",
    "        cm = cm.astype('float') / cm.sum(axis=1)[:, np.newaxis]\n",
    "        #print(\"Normalized confusion matrix\")\n",
    "    #else:\n",
    "        #print('Confusion matrix, without normalization')\n",
    "\n",
    "    #print(cm)\n",
    "    plt.figure(figsize=(10,10))\n",
    "    plt.imshow(cm, interpolation='nearest', cmap=cmap)\n",
    "    plt.title(title, fontsize=16)\n",
    "    plt.colorbar()\n",
    "    tick_marks = np.arange(len(classes))\n",
    "    plt.xticks(tick_marks, classes, rotation=45, fontsize=14)\n",
    "    plt.yticks(tick_marks, classes, fontsize=14)\n",
    "\n",
    "    fmt = '.2f' if normalize else 'd'\n",
    "    thresh = cm.max() / 2.\n",
    "    for i, j in itertools.product(range(cm.shape[0]), range(cm.shape[1])):\n",
    "        plt.text(j, i, format(cm[i, j], fmt),\n",
    "                 horizontalalignment=\"center\",\n",
    "                 color=\"white\" if cm[i, j] > thresh else \"black\")\n",
    "\n",
    "    plt.tight_layout()\n",
    "    plt.ylabel('Classe verdadeira', fontsize=14)\n",
    "    plt.xlabel('Classe estimada', fontsize=14)\n",
    "\n",
    "    plt.figure(figsize=(12,12))\n",
    "    #plt.show()"
   ]
  },
  {
   "cell_type": "code",
   "execution_count": 397,
   "metadata": {},
   "outputs": [
    {
     "data": {
      "image/png": "[encoded data removed]",
      "text/plain": [
       "<Figure size 720x720 with 2 Axes>"
      ]
     },
     "metadata": {},
     "output_type": "display_data"
    },
    {
     "data": {
      "text/plain": [
       "<Figure size 864x864 with 0 Axes>"
      ]
     },
     "metadata": {},
     "output_type": "display_data"
    }
   ],
   "source": [
    "# Un-Normalized Confusion Matrix...\n",
    "plot_confusion_matrix(cm_mean, classes=['bus', 'van','opel', 'saab'], normalize=False,\n",
    "                      title=u'Matriz de Confusão')\n",
    "# Normalized Confusion Matrix...\n",
    "#plot_confusion_matrix(cm_mean, classes=['bus', 'van','opel', 'saab'], normalize=True,\n",
    "#                      title='Normalized Confusion Matrix')"
   ]
  },
  {
   "cell_type": "code",
   "execution_count": 398,
   "metadata": {},
   "outputs": [
    {
     "name": "stdout",
     "output_type": "stream",
     "text": [
      "[[20  0  6 13]\n",
      " [13 20  0  6]\n",
      " [ 6  0 19 13]\n",
      " [ 7  0 20 19]]\n"
     ]
    }
   ],
   "source": [
    "print (cm_mean)"
   ]
  },
  {
   "cell_type": "code",
   "execution_count": 455,
   "metadata": {},
   "outputs": [],
   "source": [
    "def Metricas(cm):\n",
    "    R_class = 0\n",
    "    R_sum = []\n",
    "    P_class = 0\n",
    "    P_sum = []\n",
    "    F1_class = 0\n",
    "    F1_sum = []\n",
    "    #tp = 0\n",
    "    for i in range(cm.shape[0]):\n",
    "        #tp = tp + cm[i][i]\n",
    "        fn = 0\n",
    "        fp = 0\n",
    "        for j in range(0, cm.shape[1]):\n",
    "            #input()\n",
    "            fn = fn + cm[i][j]\n",
    "            #print (fn)\n",
    "            fp = fp + cm[j][i]\n",
    "        #input()\n",
    "        #fn = fn - cm[i][i]\n",
    "        \n",
    "        R_class = cm[i][i]/fn\n",
    "        R_sum.append(R_class)\n",
    "        \n",
    "        P_class = cm[i][i]/fp\n",
    "        P_sum.append(P_class)\n",
    "        \n",
    "        F1_class = 2*(float((R_class*P_class)/(R_class+P_class)))\n",
    "        F1_sum.append(F1_class)\n",
    "        \n",
    "    R = np.mean(R_sum)\n",
    "    print ('Recall para cada classe:\\n', R_sum)\n",
    "     \n",
    "    P = np.mean(P_sum)\n",
    "    print ('Precision para cada classe:\\n', P_sum)\n",
    "    \n",
    "    F1 = np.mean(F1_sum)\n",
    "    print ('F1-score para cada classe:\\n', F1_sum, '\\n')\n",
    "    \n",
    "    return R, P, F1"
   ]
  },
  {
   "cell_type": "code",
   "execution_count": 456,
   "metadata": {},
   "outputs": [
    {
     "name": "stdout",
     "output_type": "stream",
     "text": [
      "Recall para cada classe:\n",
      " [0.5128205128205128, 0.5128205128205128, 0.5, 0.41304347826086957]\n",
      "Precision para cada classe:\n",
      " [0.43478260869565216, 1.0, 0.4222222222222222, 0.37254901960784315]\n",
      "F1-score para cada classe:\n",
      " [0.47058823529411764, 0.6779661016949152, 0.4578313253012048, 0.39175257731958757] \n",
      "\n",
      "Média Recall: 0.4846711259754738\n",
      "Média Precision 0.5573884626314294\n",
      "Média F1-score 0.4995345599024563\n"
     ]
    }
   ],
   "source": [
    "Ro, Po, F1o = Metricas(cm_mean)\n",
    "print ('Média Recall:', Ro)\n",
    "print ('Média Precision', Po)\n",
    "print ('Média F1-score', F1o)"
   ]
  },
  {
   "cell_type": "markdown",
   "metadata": {},
   "source": [
    "## Item b) "
   ]
  },
  {
   "cell_type": "code",
   "execution_count": 606,
   "metadata": {},
   "outputs": [],
   "source": [
    "auto = pd.read_csv('dataset_vehicle.csv')\n",
    "#auto.head()"
   ]
  },
  {
   "cell_type": "code",
   "execution_count": 607,
   "metadata": {},
   "outputs": [],
   "source": [
    "x = auto.loc[:, 'COMPACTNESS':'HOLLOWS_RATIO'].values\n",
    "y = auto.loc[:, 'Class'].values\n",
    "\n",
    "# 80% treino e 20% teste\n",
    "#x_train, x_test, y_train, y_test = Train_test(x, y, 0.2)\n",
    "#print (x_train.shape, x_test.shape, y_train.shape)\n",
    "#print (y_test)"
   ]
  },
  {
   "cell_type": "code",
   "execution_count": 600,
   "metadata": {},
   "outputs": [],
   "source": [
    "#s = 0\n",
    "#for i in range(len(y_test)):\n",
    "#    if y_test[2] == y_test[i]:\n",
    "#        s = s+1\n",
    "#print (s)"
   ]
  },
  {
   "cell_type": "code",
   "execution_count": 608,
   "metadata": {},
   "outputs": [
    {
     "name": "stdout",
     "output_type": "stream",
     "text": [
      "(676, 19) (170, 19) (676,)\n"
     ]
    }
   ],
   "source": [
    "auto = np.array(auto)\n",
    "\n",
    "x_train, x_test, y_train, y_test = Train_test(auto, y, 0.2)\n",
    "\n",
    "print (x_train.shape, x_test.shape, y_train.shape)\n"
   ]
  },
  {
   "cell_type": "code",
   "execution_count": 609,
   "metadata": {},
   "outputs": [],
   "source": [
    "def Distancia_euclidiana(x, xi):\n",
    "    d = 0.0\n",
    "    for i in range(len(xi)-1):\n",
    "        d += pow((float(x[i])-float(xi[i])),2)  #euclidean distance\n",
    "    d = np.sqrt(d)\n",
    "    return d"
   ]
  },
  {
   "cell_type": "code",
   "execution_count": 610,
   "metadata": {},
   "outputs": [],
   "source": [
    "def knn_predict(test_data, train_data, k_value):\n",
    "    for i in test_data:\n",
    "        #input()\n",
    "        #print (i[18])\n",
    "        Eu_distance =[]\n",
    "        knn = []\n",
    "        #labels_knn = []\n",
    "        list_labels_knn = []\n",
    "        est = []\n",
    "        #bad = 0\n",
    "        for j in train_data:\n",
    "            #input()\n",
    "            #print (j)\n",
    "            #print (j[5])\n",
    "            eu_dist = Distancia_euclidiana(i, j)\n",
    "            #input()\n",
    "            #print (eu_dist)\n",
    "            Eu_distance.append((j[18], eu_dist))\n",
    "            #Eu_distance.append(eu_dist)\n",
    "            #print (j[18], eu_dist)\n",
    "            Eu_distance.sort(key = operator.itemgetter(1))\n",
    "            knn = Eu_distance[:k_value]\n",
    "                        \n",
    "            if len(knn) == k_value:\n",
    "                list_labels_knn.append(knn)\n",
    "                l_knn = []\n",
    "                for a in knn:\n",
    "                     l_knn.append(a[0])\n",
    "\n",
    "                if l_knn[0] == l_knn[1]:\n",
    "                    est.append([i[18], l_knn[0]])\n",
    "                elif l_knn[0] == l_knn[2]:\n",
    "                    est.append([i[18], l_knn[0]])\n",
    "                elif l_knn[1] == l_knn[2]:\n",
    "                    est.append([i[18], l_knn[1]])\n",
    "\n",
    "                #input()\n",
    "                #print (l_knn)\n",
    "                #print (est)\n",
    "                #list_labels_knn.append(labels_knn)\n",
    "                \n",
    "            #print (Eu_distance[0])\n",
    "            #if len(knn) == k_value:\n",
    "                \n",
    "            #input()\n",
    "            #print (len(knn))\n",
    "            #print (knn)\n",
    "            \n",
    "    return list_labels_knn, est"
   ]
  },
  {
   "cell_type": "code",
   "execution_count": 611,
   "metadata": {},
   "outputs": [],
   "source": [
    "KNN, l_knn = knn_predict(x_test, x_train, 3)"
   ]
  },
  {
   "cell_type": "code",
   "execution_count": 612,
   "metadata": {},
   "outputs": [
    {
     "data": {
      "text/plain": [
       "array([['bus', 'bus'],\n",
       "       ['bus', 'bus'],\n",
       "       ['bus', 'bus'],\n",
       "       ...,\n",
       "       ['bus', 'bus'],\n",
       "       ['bus', 'bus'],\n",
       "       ['bus', 'bus']], dtype='<U3')"
      ]
     },
     "execution_count": 612,
     "metadata": {},
     "output_type": "execute_result"
    }
   ],
   "source": [
    "np.array(l_knn)"
   ]
  },
  {
   "cell_type": "code",
   "execution_count": null,
   "metadata": {},
   "outputs": [],
   "source": []
  },
  {
   "cell_type": "markdown",
   "metadata": {},
   "source": [
    "# Referências"
   ]
  },
  {
   "cell_type": "markdown",
   "metadata": {},
   "source": [
    "- https://becominghuman.ai/logistic-regression-in-python-from-scratch-954c0196d258\n",
    "- https://towardsdatascience.com/building-a-logistic-regression-in-python-301d27367c24\n",
    "- https://blog.goodaudience.com/logistic-regression-from-scratch-in-numpy-5841c09e425f\n",
    "- https://machinelearningmastery.com/tutorial-to-implement-k-nearest-neighbors-in-python-from-scratch/\n",
    "- http://dataaspirant.com/2016/12/27/k-nearest-neighbor-algorithm-implementaion-python-scratch/\n",
    "- https://www.python-course.eu/k_nearest_neighbor_classifier.php\n",
    "- https://www.geeksforgeeks.org/implementation-k-nearest-neighbors/"
   ]
  },
  {
   "cell_type": "code",
   "execution_count": null,
   "metadata": {},
   "outputs": [],
   "source": []
  }
 ],
 "metadata": {
  "kernelspec": {
   "display_name": "Python 3",
   "language": "python",
   "name": "python3"
  },
  "language_info": {
   "codemirror_mode": {
    "name": "ipython",
    "version": 3
   },
   "file_extension": ".py",
   "mimetype": "text/x-python",
   "name": "python",
   "nbconvert_exporter": "python",
   "pygments_lexer": "ipython3",
   "version": "3.6.5"
  }
 },
 "nbformat": 4,
 "nbformat_minor": 2
}
