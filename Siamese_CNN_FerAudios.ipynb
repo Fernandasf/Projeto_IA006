{
 "cells": [
  {
   "cell_type": "code",
   "execution_count": 1,
   "metadata": {},
   "outputs": [
    {
     "name": "stderr",
     "output_type": "stream",
     "text": [
      "/home/fernanda/anaconda3/lib/python3.6/site-packages/h5py/__init__.py:36: FutureWarning: Conversion of the second argument of issubdtype from `float` to `np.floating` is deprecated. In future, it will be treated as `np.float64 == np.dtype(float).type`.\n",
      "  from ._conv import register_converters as _register_converters\n",
      "Using TensorFlow backend.\n"
     ]
    }
   ],
   "source": [
    "%matplotlib inline\n",
    "import matplotlib.pyplot as plt\n",
    "import numpy as np\n",
    "import glob\n",
    "import librosa\n",
    "import librosa.display as ld\n",
    "# Printa todos os valores do array\n",
    "#np.set_printoptions(threshold=np.inf)\n",
    "np.set_printoptions(threshold=10)\n",
    "import pandas as pd\n",
    "#from sklearn.cross_validation import train_test_split\n",
    "from sklearn.model_selection import train_test_split\n",
    "\n",
    "import keras\n",
    "from __future__ import print_function\n",
    "import keras\n",
    "from keras.datasets import mnist\n",
    "from keras.models import Sequential\n",
    "from keras.layers import Dense, Dropout, Flatten\n",
    "from keras.layers import Conv2D, MaxPooling2D, Conv1D\n",
    "from keras import backend as K"
   ]
  },
  {
   "cell_type": "code",
   "execution_count": null,
   "metadata": {},
   "outputs": [],
   "source": [
    "x_train_a = joblib.load(\"features_propaganda/1segs/x_train.pkl\")\n",
    "x_test_a = joblib.load(\"features_propaganda/1segs/x_test.pkl\")\n",
    "x_val_a = joblib.load(\"features_propaganda/1segs/x_val.pkl\")\n",
    "y_train_a = joblib.load(\"features_propaganda/1segs/y_train.pkl\")\n",
    "y_test_a = joblib.load(\"features_propaganda/1segs/y_test.pkl\")\n",
    "y_val_a = joblib.load(\"features_propaganda/1segs/y_val.pkl\")\n",
    "\n",
    "x_train_c = joblib.load(\"features_propaganda/1segs/x_train.pkl\")\n",
    "x_test_c = joblib.load(\"features_propaganda/1segs/x_test.pkl\")\n",
    "x_val_c = joblib.load(\"features_propaganda/1segs/x_val.pkl\")\n",
    "y_train_c = joblib.load(\"features_propaganda/1segs/y_train.pkl\")\n",
    "y_test_c = joblib.load(\"features_propaganda/1segs/y_test.pkl\")\n",
    "y_val_c = joblib.load(\"features_propaganda/1segs/y_val.pkl\")"
   ]
  },
  {
   "cell_type": "code",
   "execution_count": null,
   "metadata": {},
   "outputs": [],
   "source": []
  },
  {
   "cell_type": "code",
   "execution_count": null,
   "metadata": {},
   "outputs": [],
   "source": [
    "def CNN_Arch(x_train_np, x_test_np, y_train_np, y_test_np):\n",
    "    batch_size = 20\n",
    "    epochs = 50\n",
    "    \n",
    "    # input image dimensions\n",
    "    img_rows = x_train_np.shape[1]\n",
    "    img_cols = x_train_np.shape[2]\n",
    "\n",
    "    if K.image_data_format() == 'channels_first':\n",
    "        x_train_np = x_train_np.reshape(x_train_np.shape[0], 1, img_rows, img_cols)\n",
    "        x_val_np = x_val_np.reshape(x_val_np.shape[0], 1, img_rows, img_cols)\n",
    "        x_test_np = x_test_np.reshape(x_test_np.shape[0], 1, img_rows, img_cols)\n",
    "        input_shape = (1, img_rows, img_cols)\n",
    "    else:\n",
    "        x_train_np = x_train_np.reshape(x_train_np.shape[0], img_rows, img_cols, 1)\n",
    "        x_val_np = x_val_np.reshape(x_val_np.shape[0], img_rows, img_cols, 1)\n",
    "        x_test_np = x_test_np.reshape(x_test_np.shape[0], img_rows, img_cols, 1)\n",
    "        input_shape = (img_rows, img_cols, 1)\n",
    "\n",
    "    x_train_np = x_train_np.astype('float32')\n",
    "    x_val_np = x_val_np.astype('float32')\n",
    "    x_test_np = x_test_np.astype('float32')\n",
    "    x_train_np /= 255\n",
    "    x_val_np /= 255\n",
    "    x_test_np /= 255\n",
    "    print('x_train shape:', x_train_np.shape)\n",
    "    print(x_train_np.shape[0], 'train samples')\n",
    "    print(x_val_np.shape[0], 'val samples')\n",
    "    print(x_test_np.shape[0], 'test samples')\n",
    "    print (input_shape)\n",
    "\n",
    "    print ('y_train shape:', y_train_np.shape)\n",
    "\n",
    "    num_classes = 2\n",
    "    y_train_np = keras.utils.to_categorical(y_train_bi, num_classes)\n",
    "    y_test_np = keras.utils.to_categorical(y_test_bi, num_classes)\n",
    "    y_val_np = keras.utils.to_categorical(y_val_bi, num_classes)\n",
    "\n",
    "    print ('y_train shape:', y_train_np.shape)\n",
    "\n",
    "    model = Sequential()\n",
    "    # Input Layer\n",
    "    input_shape=input_shape\n",
    "    # Hidden Layer\n",
    "    model.add(Conv2D(16, kernel_size=(3, 3), activation='relu', input_shape=input_shape))\n",
    "    model.add(MaxPooling2D(pool_size=(2, 2)))\n",
    "    model.add(Conv2D(16, kernel_size=(3, 3), activation='relu'))\n",
    "    model.add(MaxPooling2D(pool_size=(2, 2)))\n",
    "    model.add(Conv2D(16, kernel_size=(3, 3), activation='relu'))\n",
    "    model.add(MaxPooling2D(pool_size=(2, 2)))\n",
    "    model.add(Conv2D(16, kernel_size=(3, 3), activation='relu'))\n",
    "    model.add(MaxPooling2D(pool_size=(2, 2)))\n",
    "    model.add(Flatten())\n",
    "    model.add(Dense(200, activation='relu'))\n",
    "    # Output Layer\n",
    "    model.add(Dense(num_classes, activation='softmax'))\n",
    "    model.summary()\n",
    "return model"
   ]
  },
  {
   "cell_type": "code",
   "execution_count": null,
   "metadata": {},
   "outputs": [],
   "source": [
    "feat_mapA = model(b) \n",
    "feat_mapC = model(a)\n"
   ]
  }
 ],
 "metadata": {
  "kernelspec": {
   "display_name": "Python 3",
   "language": "python",
   "name": "python3"
  },
  "language_info": {
   "codemirror_mode": {
    "name": "ipython",
    "version": 3
   },
   "file_extension": ".py",
   "mimetype": "text/x-python",
   "name": "python",
   "nbconvert_exporter": "python",
   "pygments_lexer": "ipython3",
   "version": "3.6.5"
  }
 },
 "nbformat": 4,
 "nbformat_minor": 2
}
