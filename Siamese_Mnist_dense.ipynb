{
 "cells": [
  {
   "cell_type": "markdown",
   "metadata": {},
   "source": [
    "# Projeto Final - IA006 Machine Learning\n",
    "\n",
    "\n",
    "\n",
    "    Alunos: Fernanda Ferreira RA:163676\n",
    "\n",
    "            Renan Brotto RA:137442\n",
    "        \n",
    "        \n",
    "Professores: Levy Boccato e Romis Attux\n",
    "\n",
    "Data: 01/07/2019"
   ]
  },
  {
   "cell_type": "markdown",
   "metadata": {},
   "source": [
    "# Reconhecimento de Imagens Open Set com Redes Neurais Siamesas"
   ]
  },
  {
   "cell_type": "code",
   "execution_count": 1,
   "metadata": {},
   "outputs": [
    {
     "name": "stderr",
     "output_type": "stream",
     "text": [
      "/home/fernanda/anaconda3/lib/python3.6/site-packages/h5py/__init__.py:36: FutureWarning: Conversion of the second argument of issubdtype from `float` to `np.floating` is deprecated. In future, it will be treated as `np.float64 == np.dtype(float).type`.\n",
      "  from ._conv import register_converters as _register_converters\n",
      "Using TensorFlow backend.\n"
     ]
    }
   ],
   "source": [
    "from __future__ import absolute_import\n",
    "from __future__ import print_function\n",
    "import numpy as np\n",
    "\n",
    "import random\n",
    "from keras.datasets import mnist\n",
    "from keras.models import Model\n",
    "from keras.layers import Input, Flatten, Dense, Dropout, Lambda\n",
    "from keras.optimizers import RMSprop\n",
    "from keras import backend as K\n",
    "from keras.models import Sequential\n",
    "from keras.layers import Conv2D, MaxPooling2D, Conv1D\n",
    "%matplotlib inline\n",
    "import matplotlib.pyplot as plt\n",
    "\n",
    "#num_classes = 3\n",
    "epochs = 5\n",
    "\n",
    "\n",
    "def euclidean_distance(vects):\n",
    "    x, y = vects\n",
    "    sum_square = K.sum(K.square(x - y), axis=1, keepdims=True)\n",
    "    return K.sqrt(K.maximum(sum_square, K.epsilon()))\n",
    "\n",
    "\n",
    "def eucl_dist_output_shape(shapes):\n",
    "    shape1, shape2 = shapes\n",
    "    return (shape1[0], 1)\n",
    "\n",
    "\n",
    "def contrastive_loss(y_true, y_pred):\n",
    "    '''Contrastive loss from Hadsell-et-al.'06\n",
    "    http://yann.lecun.com/exdb/publis/pdf/hadsell-chopra-lecun-06.pdf\n",
    "    '''\n",
    "    margin = 1\n",
    "    square_pred = K.square(y_pred)\n",
    "    margin_square = K.square(K.maximum(margin - y_pred, 0))\n",
    "    return K.mean(y_true * square_pred + (1 - y_true) * margin_square)\n",
    "\n",
    "#def create_base_network(input_shape):\n",
    "#    \n",
    "#    Model=Sequential()\n",
    "#    Model.add(Conv2D(32, kernel_size=(3, 3), activation='relu', input_shape=input_shape))\n",
    "#    Model.add(MaxPooling2D(pool_size=(2, 2)))\n",
    "#    Model.add(Conv2D(32, kernel_size=(3, 3), activation='relu'))\n",
    "#    Model.add(MaxPooling2D(pool_size=(2, 2)))\n",
    "#    Model.add(Flatten())\n",
    "    #Model.add(Dense(100, activation='relu')) #200\n",
    "    # Output Layer\n",
    "    #Model.add(Dense(1, activation='softmax'))\n",
    "    #Model.summary()\n",
    "#    return Model\n",
    "\n",
    "#def create_pairs(x, digit_indices, num_classes):\n",
    "#    '''Positive and negative pair creation.\n",
    "#    Alternates between positive and negative pairs.\n",
    "#    '''\n",
    "#    pairs = []\n",
    "#    labels = []\n",
    "#    n = min([len(digit_indices[d]) for d in range(num_classes)]) - 1\n",
    "#    for d in range(num_classes):\n",
    "#        for i in range(n):\n",
    "#            z1, z2 = digit_indices[d][i], digit_indices[d][i + 1]\n",
    "#            pairs += [[x[z1], x[z2]]]\n",
    "#            inc = random.randrange(1, num_classes)\n",
    "#            dn = (d + inc) % num_classes\n",
    "#            z1, z2 = digit_indices[d][i], digit_indices[dn][i]\n",
    "#            pairs += [[x[z1], x[z2]]]\n",
    "#            labels += [0, 1]\n",
    "#    return np.array(pairs), np.array(labels)\n",
    "\n",
    "\n",
    "def create_pairs(x, y, digit_indices, num_classes):\n",
    "    '''Positive and negative pair creation.\n",
    "    Alternates between positive and negative pairs.\n",
    "    '''\n",
    "    y_pairs = []\n",
    "    pairs = []\n",
    "    labels = []\n",
    "    n = min([len(digit_indices[d]) for d in range(num_classes)]) - 1\n",
    "    for d in range(num_classes):\n",
    "        for i in range(n):\n",
    "            z1, z2 = digit_indices[d][i], digit_indices[d][i + 1]\n",
    "            pairs += [[x[z1], x[z2]]]\n",
    "            y_pairs += [[y[z1], y[z2]]]\n",
    "            inc = random.randrange(1, num_classes)\n",
    "            dn = (d + inc) % num_classes\n",
    "            z1, z2 = digit_indices[d][i], digit_indices[dn][i]\n",
    "            pairs += [[x[z1], x[z2]]]\n",
    "            y_pairs += [[y[z1], y[z2]]]\n",
    "            labels += [1, 0]\n",
    "    return np.array(pairs), np.array(y_pairs), np.array(labels)\n",
    "\n",
    "def create_base_network(input_shape):\n",
    "    '''Base network to be shared (eq. to feature extraction).\n",
    "    '''\n",
    "    input = Input(shape=input_shape)\n",
    "    x = Flatten()(input)\n",
    "    x = Dense(32, activation='relu')(x)\n",
    "    x = Dropout(0.1)(x)\n",
    "    #x = Dense(128, activation='relu')(x)\n",
    "    #x = Dropout(0.1)(x)\n",
    "    x = Dense(32, activation='relu')(x)\n",
    "    return Model(input, x)\n",
    "\n",
    "\n",
    "def compute_accuracy(y_true, y_pred):\n",
    "    '''Compute classification accuracy with a fixed threshold on distances.\n",
    "    '''\n",
    "    pred = y_pred.ravel() < 0.5\n",
    "    return np.mean(pred == y_true)\n",
    "\n",
    "\n",
    "def accuracy(y_true, y_pred):\n",
    "    '''Compute classification accuracy with a fixed threshold on distances.\n",
    "    '''\n",
    "    return K.mean(K.equal(y_true, K.cast(y_pred < 0.5, y_true.dtype)))"
   ]
  },
  {
   "cell_type": "markdown",
   "metadata": {},
   "source": [
    "### Dataset utilizado: Mnist"
   ]
  },
  {
   "cell_type": "code",
   "execution_count": 2,
   "metadata": {},
   "outputs": [
    {
     "name": "stdout",
     "output_type": "stream",
     "text": [
      "(28, 28)\n"
     ]
    }
   ],
   "source": [
    "# the data, split between train and test sets\n",
    "(x_train, y_train), (x_test, y_test) = mnist.load_data()\n",
    "x_train = x_train.astype('float32')\n",
    "x_test = x_test.astype('float32')\n",
    "x_train /= 255\n",
    "x_test /= 255\n",
    "input_shape = x_train.shape[1:]\n",
    "print (input_shape)"
   ]
  },
  {
   "cell_type": "markdown",
   "metadata": {},
   "source": [
    "### Criação de pares para a entrada da rede"
   ]
  },
  {
   "cell_type": "code",
   "execution_count": 80,
   "metadata": {},
   "outputs": [],
   "source": [
    "digit_indices = [np.where(y_train == i)[0] for i in range(6)]\n",
    "tr_pairs, try_pairs, tr_y = create_pairs(x_train, y_train, digit_indices, 6)"
   ]
  },
  {
   "cell_type": "code",
   "execution_count": 4,
   "metadata": {},
   "outputs": [],
   "source": [
    "digit_indices2 = [np.where(y_test == i)[0] for i in range(8)]\n",
    "te_pairs, tey_pairs, te_y = create_pairs(x_test, y_test, digit_indices2, 8)\n"
   ]
  },
  {
   "cell_type": "code",
   "execution_count": 5,
   "metadata": {},
   "outputs": [
    {
     "data": {
      "image/png": "[encoded data removed]",
      "text/plain": [
       "<Figure size 720x720 with 8 Axes>"
      ]
     },
     "metadata": {},
     "output_type": "display_data"
    },
    {
     "name": "stdout",
     "output_type": "stream",
     "text": [
      "[0 0] [0 3] [0 0] [0 6]\n",
      "[1 0 1 0]\n"
     ]
    }
   ],
   "source": [
    "fig, ax = plt.subplots(4, 2, figsize=(10,10))\n",
    "\n",
    "ax[0][0].imshow(te_pairs[0][0])\n",
    "ax[0][1].imshow(te_pairs[0][1])\n",
    "ax[1][0].imshow(te_pairs[1][0])\n",
    "ax[1][1].imshow(te_pairs[1][1])\n",
    "ax[2][0].imshow(te_pairs[2][0])\n",
    "ax[2][1].imshow(te_pairs[2][1])\n",
    "ax[3][0].imshow(te_pairs[3][0])\n",
    "ax[3][1].imshow(te_pairs[3][1])\n",
    "plt.show()\n",
    "\n",
    "print (tey_pairs[0], tey_pairs[1], tey_pairs[2], tey_pairs[3])\n",
    "print (te_y[0:4])"
   ]
  },
  {
   "cell_type": "markdown",
   "metadata": {},
   "source": [
    "Quando os pares são iguais, são rotulados como 1 e quando os pares são diferentes são rotulados como 0."
   ]
  },
  {
   "cell_type": "markdown",
   "metadata": {},
   "source": [
    "### Definição da arquitetura da rede"
   ]
  },
  {
   "cell_type": "code",
   "execution_count": 49,
   "metadata": {},
   "outputs": [],
   "source": [
    "# network definition\n",
    "base_network = create_base_network(input_shape)\n",
    "\n",
    "input_a = Input(shape=input_shape)\n",
    "input_b = Input(shape=input_shape)\n",
    "\n",
    "# because we re-use the same instance `base_network`,\n",
    "# the weights of the network\n",
    "# will be shared across the two branches\n",
    "processed_a = base_network(input_a)\n",
    "processed_b = base_network(input_b)\n",
    "\n",
    "distance = Lambda(euclidean_distance,\n",
    "                  output_shape=eucl_dist_output_shape)([processed_a, processed_b])\n",
    "\n",
    "model = Model([input_a, input_b], distance)"
   ]
  },
  {
   "cell_type": "code",
   "execution_count": 50,
   "metadata": {},
   "outputs": [
    {
     "name": "stdout",
     "output_type": "stream",
     "text": [
      "__________________________________________________________________________________________________\n",
      "Layer (type)                    Output Shape         Param #     Connected to                     \n",
      "==================================================================================================\n",
      "input_8 (InputLayer)            (None, 28, 28)       0                                            \n",
      "__________________________________________________________________________________________________\n",
      "input_9 (InputLayer)            (None, 28, 28)       0                                            \n",
      "__________________________________________________________________________________________________\n",
      "model_5 (Model)                 (None, 32)           26176       input_8[0][0]                    \n",
      "                                                                 input_9[0][0]                    \n",
      "__________________________________________________________________________________________________\n",
      "lambda_3 (Lambda)               (None, 1)            0           model_5[1][0]                    \n",
      "                                                                 model_5[2][0]                    \n",
      "==================================================================================================\n",
      "Total params: 26,176\n",
      "Trainable params: 26,176\n",
      "Non-trainable params: 0\n",
      "__________________________________________________________________________________________________\n"
     ]
    }
   ],
   "source": [
    "model.summary()"
   ]
  },
  {
   "cell_type": "markdown",
   "metadata": {},
   "source": [
    "### O modelo da rede foi obtido utilizando os dados de treinamento e validação para ajuste dos parâmetros da função custo."
   ]
  },
  {
   "cell_type": "code",
   "execution_count": 51,
   "metadata": {},
   "outputs": [
    {
     "name": "stdout",
     "output_type": "stream",
     "text": [
      "Train on 50000 samples, validate on 15040 samples\n",
      "Epoch 1/5\n",
      "50000/50000 [==============================] - 3s 61us/step - loss: 0.1104 - accuracy: 0.8632 - val_loss: 0.5628 - val_accuracy: 0.6437\n",
      "Epoch 2/5\n",
      "50000/50000 [==============================] - 3s 53us/step - loss: 0.0568 - accuracy: 0.9489 - val_loss: 1.0413 - val_accuracy: 0.6374\n",
      "Epoch 3/5\n",
      "50000/50000 [==============================] - 3s 53us/step - loss: 0.0389 - accuracy: 0.9659 - val_loss: 1.4486 - val_accuracy: 0.6395\n",
      "Epoch 4/5\n",
      "50000/50000 [==============================] - 3s 52us/step - loss: 0.0299 - accuracy: 0.9728 - val_loss: 1.6964 - val_accuracy: 0.6367\n",
      "Epoch 5/5\n",
      "50000/50000 [==============================] - 3s 53us/step - loss: 0.0254 - accuracy: 0.9752 - val_loss: 1.8919 - val_accuracy: 0.6376\n"
     ]
    },
    {
     "data": {
      "text/plain": [
       "<keras.callbacks.History at 0x7fde740cb438>"
      ]
     },
     "execution_count": 51,
     "metadata": {},
     "output_type": "execute_result"
    }
   ],
   "source": [
    "# train\n",
    "rms = RMSprop()\n",
    "model.compile(loss=contrastive_loss, optimizer=rms, metrics=[accuracy])\n",
    "model.fit([tr_pairs[0:50000, 0], tr_pairs[0:50000, 1]], tr_y[0:50000],\n",
    "          batch_size=128,\n",
    "          epochs=5,\n",
    "          validation_data=([tr_pairs[50000:len(tr_pairs), 0], tr_pairs[50000:len(tr_pairs), 1]], tr_y[50000:len(tr_pairs)]))\n",
    "\n",
    "#model.fit([tr_pairs[:, 0], tr_pairs[:, 1]], tr_y,\n",
    "#          batch_size=128,\n",
    "#          epochs=epochs,\n",
    "#          validation_data=([te_pairs[:, 0], te_pairs[:, 1]], te_y))"
   ]
  },
  {
   "cell_type": "code",
   "execution_count": 52,
   "metadata": {},
   "outputs": [
    {
     "name": "stdout",
     "output_type": "stream",
     "text": [
      "Acurácia para o conjunto de treinamento: 90.36%\n",
      "Acurácia para o conjunto de teste: 83.09%\n"
     ]
    }
   ],
   "source": [
    "# compute final accuracy on training and test sets\n",
    "y_pred_tr = model.predict([tr_pairs[:, 0], tr_pairs[:, 1]])\n",
    "tr_acc = compute_accuracy(tr_y, y_pred_tr)\n",
    "y_pred_te = model.predict([te_pairs[:, 0], te_pairs[:, 1]])\n",
    "te_acc = compute_accuracy(te_y, y_pred_te)\n",
    "\n",
    "print('Acurácia para o conjunto de treinamento: %0.2f%%' % (100 * tr_acc))\n",
    "print('Acurácia para o conjunto de teste: %0.2f%%' % (100 * te_acc))"
   ]
  },
  {
   "cell_type": "markdown",
   "metadata": {},
   "source": [
    "### Matriz mostrando os pares, o rótulo e o valor da predição de acordo com a distância Euclidiana obtida no conjunto de teste."
   ]
  },
  {
   "cell_type": "code",
   "execution_count": 53,
   "metadata": {},
   "outputs": [
    {
     "name": "stdout",
     "output_type": "stream",
     "text": [
      "[[0.     0.     1.     0.0182]\n",
      " [0.     3.     0.     0.9664]\n",
      " [0.     0.     1.     0.0186]\n",
      " ...\n",
      " [7.     6.     0.     0.6661]\n",
      " [7.     7.     1.     0.628 ]\n",
      " [7.     3.     0.     0.5637]]\n"
     ]
    }
   ],
   "source": [
    "#len(tey_pairs), len(y_pred_te), len(te_y)\n",
    "\n",
    "matriz_results = np.zeros((len(te_y), 4))\n",
    "for i in range(len(te_y)):\n",
    "    matriz_results[i][0:2] = tey_pairs[i]\n",
    "    matriz_results[i][2] = te_y[i]\n",
    "    matriz_results[i][3] = y_pred_te[i]\n",
    "    \n",
    "#m_res = np.hstack((matriz_results, y_pred_te))\n",
    "\n",
    "np.set_printoptions(precision=4, suppress=True)\n",
    "print ((matriz_results))"
   ]
  },
  {
   "cell_type": "markdown",
   "metadata": {},
   "source": [
    "### Matriz apenas com os pares que são diferentes"
   ]
  },
  {
   "cell_type": "code",
   "execution_count": 54,
   "metadata": {},
   "outputs": [
    {
     "name": "stdout",
     "output_type": "stream",
     "text": [
      "[[0.     3.     0.     0.9664]\n",
      " [0.     6.     0.     0.9077]\n",
      " [0.     5.     0.     3.7911]\n",
      " ...\n",
      " [7.     4.     0.     0.6939]\n",
      " [7.     6.     0.     0.6661]\n",
      " [7.     3.     0.     0.5637]]\n"
     ]
    }
   ],
   "source": [
    "matriz_diff = []\n",
    "for i in range(len(te_y)):\n",
    "    if matriz_results[i][2] == 0:\n",
    "        matriz_diff.append(matriz_results[i])\n",
    "       # input()\n",
    "#print (matriz_diff)\n",
    "        \n",
    "matriz_diff = np.array(matriz_diff)\n",
    "\n",
    "#np.set_printoptions(threshold=np.inf)\n",
    "np.set_printoptions(threshold=10) \n",
    "print (matriz_diff)\n",
    "#print (min(matriz_diff[:, 3]))"
   ]
  },
  {
   "cell_type": "code",
   "execution_count": 112,
   "metadata": {},
   "outputs": [],
   "source": [
    "n_pert = []\n",
    "pert = []\n",
    "for i in range(len(matriz_diff)):\n",
    "    if 0.15 < matriz_diff[i][3] < 0.85:\n",
    "        n_pert.append(matriz_diff[i][0:2])\n",
    "    else:\n",
    "        pert.append(matriz_diff[i][0:2])\n",
    "        \n",
    "#print (len(n_pert))\n",
    "#print (len(pert))"
   ]
  },
  {
   "cell_type": "markdown",
   "metadata": {},
   "source": [
    "Após algumas análises, podemos observar que as imagens que não pertencem ao conjunto (imagens que representam os números 6 e 7) resultaram em distâncias menores que 0,85 e maiores que 0,15 aproximadamente. Para o caso contrário, os pares que são diferentes, porém pertencem ao conjunto, resultaram em distâncias muito próximas de 1. Portanto, para identificar as imagens que não pertencem ao conjunto utilizamos um threshold de range 0,15 e 0,85.\n"
   ]
  },
  {
   "cell_type": "code",
   "execution_count": 78,
   "metadata": {},
   "outputs": [],
   "source": [
    "y_true_diff = np.zeros((len(matriz_diff), 1))\n",
    "y_pred_diff = np.zeros((len(matriz_diff), 1))\n",
    "\n",
    "for i in range(len(matriz_diff)):\n",
    "    if matriz_diff[i][0] == 6 or matriz_diff[i][0]==7 or matriz_diff[i][1] == 6 or matriz_diff[i][1]==7:\n",
    "        y_true_diff[i] = 1\n",
    "    else:\n",
    "        y_true_diff[i] = 0\n",
    "    \n",
    "    if 0.15 < matriz_diff[i][3] < 0.85: \n",
    "        y_pred_diff[i] = 1\n",
    "    else:\n",
    "        y_pred_diff[i] = 0\n",
    "        \n",
    "#np.set_printoptions(threshold=np.inf)       \n",
    "#print (y_true_diff)\n",
    "#print (y_pred_diff)"
   ]
  },
  {
   "cell_type": "code",
   "execution_count": 82,
   "metadata": {},
   "outputs": [
    {
     "name": "stdout",
     "output_type": "stream",
     "text": [
      "Quantidade de acertos 4863\n",
      "Quantidade de erros: 2265\n",
      "Acurácia para identificar as imagens que não pertencem ao conjunto:  0.6822390572390572\n"
     ]
    }
   ],
   "source": [
    "a = e = 0\n",
    "for i in range(len(y_true_diff)):\n",
    "    if y_true_diff[i] == y_pred_diff[i]:\n",
    "        a += 1\n",
    "    else:\n",
    "        e += 1\n",
    "        \n",
    "ACC = a/len(y_true_diff)\n",
    "print ('Quantidade de acertos', a)\n",
    "print ('Quantidade de erros:', e)\n",
    "print ('Acurácia para identificar as imagens que não pertencem ao conjunto: ', ACC)"
   ]
  },
  {
   "cell_type": "markdown",
   "metadata": {},
   "source": [
    "## Identificação das imagens que não pertencem ao conjunto de dados\n",
    "\n",
    "Sabemos que as imagens que não pertencem ao conjunto representam os números 6 e 7. Entretanto, se não soubéssemos quais seriam as imagens, poderíamos verificar qual a quantidade de ocorrências que as imagem aparecem de acordo com o threshold escolhido. \n",
    "\n",
    "Dessa maneira, podemos verificar que as ocorrências das imagens 6 e 7, as quais representam os números 6 e 7, que foram classificadas como \"pertencem ao conjunto\" apresentam menores ocorrências quando comparado com as outras imagens. Logo, para as imagens classificadas como \"não pertencem ao conjunto\" apresentam maiores ocorrências para as imagens 6 e 7. Assim, podemos concluir que as imagens que representam os números 6 e 7 não pertencem ao conjunto de dados."
   ]
  },
  {
   "cell_type": "code",
   "execution_count": 124,
   "metadata": {},
   "outputs": [
    {
     "name": "stdout",
     "output_type": "stream",
     "text": [
      "Porcentagem de imagens que mais ocorreram que PERTENCEM ao conjunto de dados\n",
      "0 : 30.24 %\n",
      "1 : 29.76 %\n",
      "2 : 21.84 %\n",
      "3 : 24.16 %\n",
      "4 : 25.95 %\n",
      "5 : 30.71 %\n",
      "6 : 19.51 %\n",
      "7 : 17.83 %\n",
      "None\n",
      "Porcentagem de imagens que mais ocorreram que NÃO PERTENCEM ao conjunto de dados\n",
      "0 : 10.21 %\n",
      "1 : 9.27 %\n",
      "2 : 36.60 %\n",
      "3 : 26.39 %\n",
      "4 : 19.66 %\n",
      "5 : 7.56 %\n",
      "6 : 41.56 %\n",
      "7 : 48.76 %\n",
      "None\n"
     ]
    }
   ],
   "source": [
    "def count_datas(n):\n",
    "    n = np.array(n)\n",
    "    n_data = n.ravel()\n",
    "\n",
    "    for i in range(8):\n",
    "        n_count = (list(n_data)).count(i)\n",
    "        print (i, \":\", \"{0:.2f}\".format(((n_count/len(n))*100)), \"%\")\n",
    "\n",
    "print ('Porcentagem de imagens que mais ocorreram que PERTENCEM ao conjunto de dados')\n",
    "print (count_datas(pert))\n",
    "print ('Porcentagem de imagens que mais ocorreram que NÃO PERTENCEM ao conjunto de dados')\n",
    "print (count_datas(n_pert))"
   ]
  },
  {
   "cell_type": "markdown",
   "metadata": {},
   "source": [
    "## Conclusão\n",
    "\n",
    "A rede siamesa atingiu uma acurácia de 0,68. Um dos problemas para esse valor seria as imagens escolhidas para compor o conjunto de treino e teste. Por exemplo: algumas imagens de 1 e 7 ; 0 e 6 são muito similares, o que poderia prejudicar o resultado de classificação dos dados. Ou seja, as distâncias euclidianas apresentam valores diferentes do rotulado."
   ]
  },
  {
   "cell_type": "markdown",
   "metadata": {},
   "source": [
    "## Referências\n",
    "\n",
    "- https://github.com/keras-team/keras\n",
    "- https://www.kaggle.com/arpandhatt/siamese-neural-networks\n",
    "- https://www.kaggle.com/kmader/image-similarity-with-siamese-networks\n",
    "- https://software.intel.com/en-us/articles/keras-implementation-of-siamese-like-networks"
   ]
  },
  {
   "cell_type": "code",
   "execution_count": null,
   "metadata": {},
   "outputs": [],
   "source": []
  }
 ],
 "metadata": {
  "kernelspec": {
   "display_name": "Python 3",
   "language": "python",
   "name": "python3"
  },
  "language_info": {
   "codemirror_mode": {
    "name": "ipython",
    "version": 3
   },
   "file_extension": ".py",
   "mimetype": "text/x-python",
   "name": "python",
   "nbconvert_exporter": "python",
   "pygments_lexer": "ipython3",
   "version": "3.6.5"
  }
 },
 "nbformat": 4,
 "nbformat_minor": 2
}
